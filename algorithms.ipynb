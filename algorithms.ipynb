{
 "cells": [
  {
   "cell_type": "code",
   "execution_count": 242,
   "id": "7140241a-caa1-4bba-a9e3-5806f932c3b1",
   "metadata": {},
   "outputs": [],
   "source": [
    "import numpy as np"
   ]
  },
  {
   "cell_type": "code",
   "execution_count": 243,
   "id": "59cd9f7c-5f06-4dc2-845f-7bea792d6db4",
   "metadata": {},
   "outputs": [],
   "source": [
    "# math operations\n",
    "\n",
    "\n",
    "# np.cos()\n",
    "# np.sin()\n",
    "# np.pi\n",
    "# np.sqrt()\n",
    "# np.tan()\n",
    "\n",
    "\n",
    "#matrices are mxn - m rows by n cols"
   ]
  },
  {
   "cell_type": "code",
   "execution_count": 244,
   "id": "f4fd2590-8cde-4bff-9ca4-8ec28c8c0ff9",
   "metadata": {},
   "outputs": [],
   "source": [
    "# Floating Point Calculations"
   ]
  },
  {
   "cell_type": "code",
   "execution_count": 245,
   "id": "af20977f-0d24-4bee-95af-f51877d19f85",
   "metadata": {},
   "outputs": [],
   "source": [
    "# functions to calculate max number, min number, eps and how many numbers can be represented by a system\n",
    "# takes parameters b,t,L,U where b stands for beta\n",
    "\n",
    "\n",
    "# GUIDE - NOT FULLY ACCURATE\n",
    "def numberSystemInfo(b,t,L,U):\n",
    "    \n",
    "    print(f\"---------\\nFor Number System ({b},{t},{L},{U}):\\n\")\n",
    "    \n",
    "    # calculate number of numbers representable\n",
    "    total = 2 * (U-L+1) * (b-1)\n",
    "    \n",
    "    for i in range(t-1):\n",
    "        total *= b\n",
    "        \n",
    "    total += 2\n",
    "    \n",
    "    print(f\"Number of numbers representable = {total}\")\n",
    "    \n",
    "    # calculate largest number\n",
    "    largestVal = 0\n",
    "    mult = b**(U-1)\n",
    "    \n",
    "    for i in range(t):\n",
    "        largestVal += (b-1) * mult\n",
    "        mult /= b\n",
    "        \n",
    "    print(f\"The largest representable value is {largestVal:.6}\")\n",
    "        \n",
    "    # calculate closest postive number to zero\n",
    "    smallVal = b**(L-1)\n",
    "    print(f\"The smallest value representable is {smallVal}\")\n",
    "    \n",
    "    # calculate epilson of the number system\n",
    "    \n",
    "    eps = 0.5 * b ** (1 - t)\n",
    "    print(f\"The machine epilison, {eps = }\")\n"
   ]
  },
  {
   "cell_type": "code",
   "execution_count": 246,
   "id": "61f7d855-ca9e-46c2-a380-eeb1d495c4b4",
   "metadata": {},
   "outputs": [
    {
     "name": "stdout",
     "output_type": "stream",
     "text": [
      "---------\n",
      "For Number System (2,52,-1023,1024):\n",
      "\n",
      "Number of numbers representable = 9223372036854775810\n",
      "The largest representable value is 1.79769e+308\n",
      "The smallest value representable is 5.562684646268003e-309\n",
      "The machine epilison, eps = 2.220446049250313e-16\n"
     ]
    }
   ],
   "source": [
    "# test numberSystemInfo\n",
    "\n",
    "#numberSystemInfo(10,2,-1,2)\n",
    "#numberSystemInfo(2,23,-127,128)\n",
    "numberSystemInfo(2,52,-1023,1024)\n"
   ]
  },
  {
   "cell_type": "code",
   "execution_count": 247,
   "id": "277a4351-757f-4377-a765-2ca7df260c4e",
   "metadata": {},
   "outputs": [],
   "source": [
    "# ---------------------------------\n",
    "# ---------------------------------\n",
    "# ---------------------------------\n",
    "# ---------------------------------\n",
    "# ---------------------------------\n",
    "# ---------------------------------\n",
    "# ---------------------------------"
   ]
  },
  {
   "cell_type": "code",
   "execution_count": 248,
   "id": "ec74ef13-2f60-4d1b-a6a5-84fd8fe1e0a8",
   "metadata": {},
   "outputs": [],
   "source": [
    "# Residual Calculator\n",
    "\n",
    "def residual(A,b,x):\n",
    "    \n",
    "    r = b - (A @ x)\n",
    "    \n",
    "    rMag = 0\n",
    "    \n",
    "    for xx in r:\n",
    "        rMag += xx**2\n",
    "        \n",
    "    rMag = np.sqrt(rMag)\n",
    "    \n",
    "    #print(f\"r = {r} \\n\\n    Magnitude = {rMag} \")\n",
    "    return (rMag, r)"
   ]
  },
  {
   "cell_type": "code",
   "execution_count": 249,
   "id": "68b56b48-aef1-4c58-896f-c31d2186fbbb",
   "metadata": {},
   "outputs": [
    {
     "data": {
      "text/plain": [
       "(5.70087712549569, array([ 3.5, -4.5,  0. ]))"
      ]
     },
     "execution_count": 249,
     "metadata": {},
     "output_type": "execute_result"
    }
   ],
   "source": [
    "# test residual calculator\n",
    "\n",
    "A = np.array([[2.0,-1.0,0.0],[-1.0,1.0,3.0],[1.0,0.0,1.0]])\n",
    "b = np.array([1.0,3.0,2.0])\n",
    "x = np.array([0.5,3.5,1.5])\n",
    "\n",
    "residual(A,b,x)\n"
   ]
  },
  {
   "cell_type": "code",
   "execution_count": 250,
   "id": "78d2c53d-9a7e-4b56-bbb2-74eb409b6cf4",
   "metadata": {},
   "outputs": [],
   "source": [
    "# ---------------------------------\n",
    "# ---------------------------------\n",
    "# ---------------------------------\n",
    "# ---------------------------------\n",
    "# ---------------------------------\n",
    "# ---------------------------------\n",
    "# ---------------------------------"
   ]
  },
  {
   "cell_type": "code",
   "execution_count": 251,
   "id": "92260146-130e-4680-9d9d-563ea886518d",
   "metadata": {},
   "outputs": [],
   "source": [
    "# Sparse Matrices"
   ]
  },
  {
   "cell_type": "code",
   "execution_count": 252,
   "id": "93ec32f6-357d-4e46-a57a-9d7c69fb6067",
   "metadata": {},
   "outputs": [],
   "source": [
    "# convert a matix A into sparse matrix storgae\n",
    "# remember the zero indexing\n",
    "\n",
    "def sparseMat(A):\n",
    "    A_real = []\n",
    "    I_row = []\n",
    "    I_col = []\n",
    "    \n",
    "    for i in range(len(A)):\n",
    "        for j in range(len(A[i])):\n",
    "            if A[i][j] != 0:\n",
    "                A_real.append(A[i][j])\n",
    "                I_row.append(i)\n",
    "                I_col.append(j)\n",
    "                \n",
    "    #print(f\"A_real = {A_real}\\n\\nI_row = {I_row}\\n\\nI_col = {I_col}\")\n",
    "    return A_real,I_row,I_col"
   ]
  },
  {
   "cell_type": "code",
   "execution_count": 253,
   "id": "923df3d5-7a98-4bde-b6b7-399ff45c9aa6",
   "metadata": {},
   "outputs": [],
   "source": [
    "# convert sparse matrix into normal matrix\n",
    "\n",
    "def sparseToNormal(A_real,I_row,I_col):\n",
    "    \n",
    "    # find out number of rows - m and number of columns - n\n",
    "    m = max(I_row) + 1\n",
    "    n = max(I_col) + 1\n",
    "    \n",
    "    # create a matrix full of zeros\n",
    "    A = np.zeros((m,n))\n",
    "    \n",
    "    for i in range(len(A_real)):\n",
    "        A[I_row[i]][I_col[i]] = A_real[i]\n",
    "        \n",
    "    return A"
   ]
  },
  {
   "cell_type": "code",
   "execution_count": 254,
   "id": "1db1d45c-eabf-4ecc-bf30-b3da2b31b343",
   "metadata": {},
   "outputs": [],
   "source": [
    "# multiply sparse matrix A such that z = Ay\n",
    "\n",
    "def multSparse(A_real,I_row,I_col,y):\n",
    "    \n",
    "    A = sparseToNormal(A_real,I_row,I_col)\n",
    "    \n",
    "    #print(f\"A = {A}\\n\\ny = {y}\")\n",
    "    \n",
    "    z = A @ y\n",
    "    \n",
    "    return z   "
   ]
  },
  {
   "cell_type": "code",
   "execution_count": 255,
   "id": "b20ed79d-a882-43b1-991a-d36b4332b3c0",
   "metadata": {},
   "outputs": [
    {
     "data": {
      "text/plain": [
       "array([ 6., 10.])"
      ]
     },
     "execution_count": 255,
     "metadata": {},
     "output_type": "execute_result"
    }
   ],
   "source": [
    "# test sparse matrix functions\n",
    "\n",
    "A = np.array([[1.0,0.0,1.0],[1.0,-1.0,0.0],[0.0,1.0,0.0]])\n",
    "A = np.array([[2.0,0.0,0.0,1.0],[0.0,1.0,0.0,2.0]])\n",
    "sA = sparseMat(A)\n",
    "sparseToNormal(sA[0],sA[1],sA[2])\n",
    "\n",
    "\n",
    "y = np.array([1.0,2.0,3.0,4.0])\n",
    "\n",
    "multSparse(sA[0],sA[1],sA[2],y)\n"
   ]
  },
  {
   "cell_type": "code",
   "execution_count": 256,
   "id": "8cd50402-e575-40fb-a8ad-06c067fe334e",
   "metadata": {},
   "outputs": [],
   "source": [
    "# Gaussian Elemination"
   ]
  },
  {
   "cell_type": "code",
   "execution_count": 257,
   "id": "297c6edb-f334-4b61-b47f-994eebd343c8",
   "metadata": {},
   "outputs": [],
   "source": [
    "# ALGORITHM TO SOLVE AN UPPER TRIANGULAR MATRIX\n",
    "\n",
    "# takes A in upper triangular form, along with b, to solve for x, returning x\n",
    "def solveUpperTri(A,b):\n",
    "    \n",
    "    # find the dimensions of the triangular system - A should be sqaure\n",
    "    dim = A.shape[0]\n",
    "    \n",
    "    x = np.zeros(dim)\n",
    "    \n",
    "    # start at bottom row of matrix and work up\n",
    "    for i in range(dim-1,-1,-1):\n",
    "        \n",
    "        # find rowSum as the total of values not along diag * corresponding x val\n",
    "        rowSum = 0\n",
    "        for j in range(i+1,dim):\n",
    "            rowSum += A[i][j] * x[j]\n",
    "        \n",
    "        x[i] = (b[i] - (rowSum))/A[i][i]\n",
    "        \n",
    "    return x "
   ]
  },
  {
   "cell_type": "code",
   "execution_count": 258,
   "id": "77cdfb91-7eb0-467e-8c56-542f006bdac1",
   "metadata": {},
   "outputs": [],
   "source": [
    "# Can preform GE with pivoting if necessary - to do this, uncomment pivoting line\n",
    "\n",
    "# take parameters A and b and return x (Ax = b)\n",
    "def gE(A,b):\n",
    "    \n",
    "    # get the size of A\n",
    "    numRows = A.shape[0]\n",
    "    numCols = A.shape[1]\n",
    "    \n",
    "    # loop through rows\n",
    "    for x in range(numRows):\n",
    "        \n",
    "        #print(f\"before pivot on row {x}\\n\\n{A = }\\n{b = }\\n\")\n",
    "        \n",
    "        #preform a pivot - UNCOMMENT TO USE PIVOTTING\n",
    "        #A,b = pivot(A,b,x)\n",
    "        \n",
    "        #print(f\"after pivot on row {x}\\n\\n{A = }\\n{b = }\\n--------------------------------\\n\")\n",
    "        \n",
    "        # get the index along the diagonal\n",
    "        diag = A[x][x]\n",
    "        # iterate through remaining rows\n",
    "        for i in range(x+1,numRows):\n",
    "            factor = A[i][x] / diag\n",
    "            # iterate through each column from x and do the subtraction\n",
    "            for j in range(x,numCols):\n",
    "                A[i][j] = A[i][j] - factor * A[x][j]\n",
    "                \n",
    "            # update b\n",
    "            b[i] = b[i] - factor * b[x]\n",
    "                \n",
    "    return A,b       \n",
    "\n",
    "\n",
    "#function to pivot at a specfic given column\n",
    "def pivot(A,b,i):\n",
    "    dim = A.shape[0]\n",
    "    \n",
    "    #find the row with the biggest val in the column denoted by i\n",
    "    maxValRow = i\n",
    "    for j in range(i+1,dim):\n",
    "        if A[j][i] > A[maxValRow][i]:\n",
    "            maxValRow = j\n",
    "        \n",
    "            \n",
    "    #pivot unless no need to (i.e. if maxValRow == i)\n",
    "    if (maxValRow != i):\n",
    "        temp1 = A[maxValRow].copy()\n",
    "        A[maxValRow] = A[i]\n",
    "        A[i] = temp1\n",
    "        \n",
    "        temp2 = b[maxValRow].copy()\n",
    "        b[maxValRow] = b[i]\n",
    "        b[i] = temp2\n",
    "        \n",
    "    return(A,b)"
   ]
  },
  {
   "cell_type": "code",
   "execution_count": 259,
   "id": "cc74be32-a3a6-414a-9d37-5771c4b2c5ec",
   "metadata": {},
   "outputs": [
    {
     "data": {
      "text/plain": [
       "array([1., 1., 1., 1.])"
      ]
     },
     "execution_count": 259,
     "metadata": {},
     "output_type": "execute_result"
    }
   ],
   "source": [
    "# example\n",
    "\n",
    "A = np.array([[4.0,3.0,2.0,1.0],[1.0,2.0,2.0,2.0],[1.0,1.0,3.0,0.0],[2.0,1.0,2.0,3.0]])\n",
    "b = np.array([10.0,7.0,5.0,8.0])\n",
    "\n",
    "A1 = np.array([[0.0,1.0,0.0],[1.0,1.001,1.0],[100.0,100.0,0.0]])\n",
    "b1 = np.array([0.0,1002.0,200.0])\n",
    "\n",
    "A,b = gE(A,b)\n",
    "\n",
    "solveUpperTri(A,b)"
   ]
  },
  {
   "cell_type": "markdown",
   "id": "1dd66b61-e785-4428-9ed7-4ef4a561cbfe",
   "metadata": {},
   "source": [
    "///////////////////////\n",
    "\n",
    "About GE:\n",
    "- Time complexity of O(n^3)\n",
    "- IF Aii is 0 and all rows below it in col i have 0 as well, then the algorithm, even with pivoting, breaks down\n",
    "- Subject to rounding errors, where big - small may not have desired effect\n"
   ]
  },
  {
   "cell_type": "code",
   "execution_count": 260,
   "id": "b7ec4efe-ecac-4f42-97ae-20dc343c7775",
   "metadata": {},
   "outputs": [],
   "source": [
    "# ---------------------------------\n",
    "# ---------------------------------\n",
    "# ---------------------------------\n",
    "# ---------------------------------\n",
    "# ---------------------------------\n",
    "# ---------------------------------\n",
    "# ---------------------------------"
   ]
  },
  {
   "cell_type": "code",
   "execution_count": 261,
   "id": "f5b04fb5-39cf-4625-8731-adc5afa4c540",
   "metadata": {},
   "outputs": [],
   "source": [
    "# LU Factorisation"
   ]
  },
  {
   "cell_type": "code",
   "execution_count": 262,
   "id": "83b60326-56b7-4d24-94fb-ce8f55896273",
   "metadata": {},
   "outputs": [],
   "source": [
    "# ---------------------------------\n",
    "# ---------------------------------\n",
    "# ---------------------------------\n",
    "# ---------------------------------\n",
    "# ---------------------------------\n",
    "# ---------------------------------\n",
    "# ---------------------------------"
   ]
  },
  {
   "cell_type": "code",
   "execution_count": 263,
   "id": "6f0e9134-fe09-4085-85a9-4a0f40e7be1e",
   "metadata": {},
   "outputs": [],
   "source": [
    "# Jacobi Iteration"
   ]
  },
  {
   "cell_type": "code",
   "execution_count": 264,
   "id": "da5174a0-6786-45e2-ac7a-1c22af3c7ee1",
   "metadata": {},
   "outputs": [],
   "source": [
    "# takes A and b as parameters along with an initial x guess - A should be square and its - number of iteration\n",
    "def jacobi(A,b,x,its):\n",
    "    # find dimension of A\n",
    "    dim = A.shape[0]\n",
    "    \n",
    "    # find D^-1\n",
    "    Dinverse = np.zeros((dim,dim))\n",
    "\n",
    "    for i in range(dim):\n",
    "        for j in range(dim):\n",
    "            if i == j:\n",
    "                Dinverse[i][j] = 1/A[i][j]\n",
    "    \n",
    "    for i in range(its):\n",
    "        \n",
    "        #print(f\"{i} -> x = {x} | r Mag = {residual(A,b,x)[0]:.5}\")\n",
    "        \n",
    "        #if residual(A,b,x)[0] < 0.05:\n",
    "            #print(f\"res less than target after {i} iterations\")\n",
    "\n",
    "        # find the next x\n",
    "        x = x + Dinverse @ (b - A @ x)\n",
    "    \n",
    "    return x\n"
   ]
  },
  {
   "cell_type": "code",
   "execution_count": 265,
   "id": "6ec8598f-c9ca-4f9d-bd8d-e5def536276e",
   "metadata": {},
   "outputs": [
    {
     "data": {
      "text/plain": [
       "array([1.5, 0.5])"
      ]
     },
     "execution_count": 265,
     "metadata": {},
     "output_type": "execute_result"
    }
   ],
   "source": [
    "# example\n",
    "\n",
    "A = np.array([[2.0,1.0],[-1.0,4.0]])\n",
    "b = np.array([3.5,0.5])\n",
    "x = np.array([1,1])\n",
    "\n",
    "jacobi(A,b,x,20)"
   ]
  },
  {
   "cell_type": "code",
   "execution_count": 266,
   "id": "07f85a49-e97a-4089-a9a4-4d388f30e0c7",
   "metadata": {},
   "outputs": [],
   "source": [
    "# ---------------------------------\n",
    "# ---------------------------------\n",
    "# ---------------------------------\n",
    "# ---------------------------------\n",
    "# ---------------------------------\n",
    "# ---------------------------------\n",
    "# ---------------------------------"
   ]
  },
  {
   "cell_type": "code",
   "execution_count": 267,
   "id": "a9faa1d8-b192-4eca-80df-71bee7bae0e0",
   "metadata": {},
   "outputs": [],
   "source": [
    "# Gauss-Seidel Iteration"
   ]
  },
  {
   "cell_type": "code",
   "execution_count": 268,
   "id": "b1e3bf06-5c24-4cd5-884f-57e3ec236aa7",
   "metadata": {},
   "outputs": [],
   "source": [
    "# Gauss-Seidel Function, taking A,b and x0 and its (number of iterations) as parameters\n",
    "def GS(A,b,x,its):\n",
    "    \n",
    "    n = x.shape[0]\n",
    "    \n",
    "    for it in range(its):\n",
    "         \n",
    "        print(f\"{it} -> x = {x} | r Mag = {residual(A,b,x)[0]:.5}\")\n",
    "        \n",
    "        #if residual(A,b,x)[0] < 0.05:\n",
    "            #print(f\"res less than target after {it} iterations\")\n",
    "        \n",
    "        for i in range(n):\n",
    "\n",
    "            sum1 = 0\n",
    "\n",
    "            for j in range(n):\n",
    "                sum1 += A[i][j] * x[j]\n",
    "                \n",
    "            x[i] += (1/A[i][i])*(b[i] - sum1)\n",
    "    \n",
    "    return x\n",
    "        "
   ]
  },
  {
   "cell_type": "code",
   "execution_count": 269,
   "id": "ec7e25f2-c50d-4fb4-8f32-7f2754d82ff5",
   "metadata": {},
   "outputs": [
    {
     "name": "stdout",
     "output_type": "stream",
     "text": [
      "0 -> x = [0. 0. 0.] | r Mag = 3.7417\n",
      "1 -> x = [0.5 3.5 1.5] | r Mag = 5.7009\n",
      "2 -> x = [ 2.25  0.75 -0.25] | r Mag = 5.9266\n"
     ]
    },
    {
     "data": {
      "text/plain": [
       "array([0.875, 4.625, 1.125])"
      ]
     },
     "execution_count": 269,
     "metadata": {},
     "output_type": "execute_result"
    }
   ],
   "source": [
    "# Example\n",
    "\n",
    "A = np.array([[2.0,-1.0,0.0],[-1.0,1.0,3.0],[1.0,0.0,1.0]])\n",
    "b = np.array([1.0,3.0,2.0])\n",
    "x = np.array([0.0,0.0,0.0])\n",
    "\n",
    "GS(A,b,x,3)\n",
    "\n"
   ]
  },
  {
   "cell_type": "code",
   "execution_count": 270,
   "id": "eefcf8bb-ac5a-4339-a2af-b4570ed4ca8c",
   "metadata": {},
   "outputs": [],
   "source": [
    "# ---------------------------------\n",
    "# ---------------------------------\n",
    "# ---------------------------------\n",
    "# ---------------------------------\n",
    "# ---------------------------------\n",
    "# ---------------------------------\n",
    "# ---------------------------------"
   ]
  },
  {
   "cell_type": "code",
   "execution_count": 271,
   "id": "b9226a60-88a7-4e5c-98b0-2829c6a57511",
   "metadata": {},
   "outputs": [],
   "source": [
    "# Euler's Method [  x(t1) = x(t0) + dt * x'(t0)      ])"
   ]
  },
  {
   "cell_type": "code",
   "execution_count": 272,
   "id": "87ffa502-0bef-4fc9-951d-4f4496e71f6d",
   "metadata": {},
   "outputs": [],
   "source": [
    "# implement f'(x) as ff(x)\n",
    "def ff(x,t):\n",
    "    return -(x**2) + 1/t\n",
    "\n",
    "def ff1(x,t):\n",
    "    return np.cos(2*np.pi*x)\n",
    "\n",
    "def ff2(y,t):\n",
    "    return 2*t*(y**2)"
   ]
  },
  {
   "cell_type": "code",
   "execution_count": 273,
   "id": "0e95fe4e-21fa-42d5-85be-54b691b01632",
   "metadata": {},
   "outputs": [],
   "source": [
    "# takes inital x0, dt, t0 and number of iterations to perfrom\n",
    "def eulerMethod(x0,dt,t0,its,func):\n",
    "    \n",
    "    t = [0.0 for i in range(its+1)]\n",
    "    x = [0.0 for i in range(its+1)]\n",
    "    \n",
    "    t[0] = t0\n",
    "    x[0] = x0\n",
    "    \n",
    "    count = 1\n",
    "\n",
    "    for i in range(1,its+1):\n",
    "        x[i] = x[i-1] + func(x[i-1],t[i-1])*dt\n",
    "        t[i] = t[i-1] + dt\n",
    "        \n",
    "        print(f\"Euler: {count} -> t[i] = {t[i]:.4f} | x[i] = {x[i]:.4f}\")\n",
    "        count += 1\n",
    "        \n",
    "    return(t[-1],x[-1])\n",
    "        "
   ]
  },
  {
   "cell_type": "code",
   "execution_count": 274,
   "id": "0f3a13b9-2914-41e1-a7bf-dbb3b91d0b3c",
   "metadata": {},
   "outputs": [
    {
     "name": "stdout",
     "output_type": "stream",
     "text": [
      "Euler: 1 -> t[i] = 1.3333 | x[i] = 1.0000\n",
      "Euler: 2 -> t[i] = 1.6667 | x[i] = 0.9167\n",
      "Euler: 3 -> t[i] = 2.0000 | x[i] = 0.8366\n",
      "Euler: 1 -> t[i] = 2.2500 | x[i] = 12.0000\n",
      "Euler: 2 -> t[i] = 2.5000 | x[i] = 174.0000\n",
      "Euler: 3 -> t[i] = 2.7500 | x[i] = 38019.0000\n",
      "Euler: 4 -> t[i] = 3.0000 | x[i] = 1987524015.3750\n"
     ]
    },
    {
     "data": {
      "text/plain": [
       "(3.0, 1987524015.375)"
      ]
     },
     "execution_count": 274,
     "metadata": {},
     "output_type": "execute_result"
    }
   ],
   "source": [
    "# example - using f'(x) = -y^2 + 1/t\n",
    "# dt = 1/3\n",
    "# t0 = 1\n",
    "# tEnd = 2\n",
    "# tSteps = 3\n",
    "# y(1) = 2\n",
    "\n",
    "eulerMethod(2,1/3,1,3,ff)\n",
    "\n",
    "#eulerMethod(0,1/2,0,2,ff1)\n",
    "\n",
    "eulerMethod(3.0,1/4,2.0,4,ff2)"
   ]
  },
  {
   "cell_type": "code",
   "execution_count": 275,
   "id": "8ce300c9-f17c-405b-b1fd-548f1b9bf322",
   "metadata": {},
   "outputs": [],
   "source": [
    "# ---------------------------------\n",
    "# ---------------------------------\n",
    "# ---------------------------------\n",
    "# ---------------------------------\n",
    "# ---------------------------------\n",
    "# ---------------------------------\n",
    "# ---------------------------------"
   ]
  },
  {
   "cell_type": "code",
   "execution_count": 276,
   "id": "5bb81aa9-5963-4bdc-948d-0fe651eb29ac",
   "metadata": {},
   "outputs": [],
   "source": [
    "# Midpoint method"
   ]
  },
  {
   "cell_type": "code",
   "execution_count": 277,
   "id": "db192d3a-aca7-4559-a4f6-2592cc4a46e8",
   "metadata": {},
   "outputs": [],
   "source": [
    "# takes inital x0, dt, t0 and number of iterations to perfrom\n",
    "def midpointMethod(x0,dt,t0,its,func):\n",
    "    \n",
    "    t = [0.0 for i in range(its+1)]\n",
    "    x = [0.0 for i in range(its+1)]\n",
    "    \n",
    "    t[0] = t0\n",
    "    x[0] = x0\n",
    "    \n",
    "    count = 1\n",
    "\n",
    "    for i in range(1,its+1):\n",
    "        \n",
    "        tMid, xMid = eulerMethod(x[i-1],dt/2, t[i-1],1,func)\n",
    "        \n",
    "        #print(f\"{tMid = } | {xMid = }\")\n",
    "        \n",
    "        x[i] = x[i-1] + func(xMid,tMid)*dt\n",
    "        t[i] = t[i-1] + dt\n",
    "        \n",
    "        print(f\"{count} -> t[i] = {t[i]:.5f} | x[i] = {x[i]:.5f}\")\n",
    "        \n",
    "    return(t[-1],x[-1])"
   ]
  },
  {
   "cell_type": "code",
   "execution_count": 278,
   "id": "ad393951-13d0-4ff3-a5ad-2a29addcd9c4",
   "metadata": {},
   "outputs": [
    {
     "name": "stdout",
     "output_type": "stream",
     "text": [
      "Euler: 1 -> t[i] = 1.1250 | x[i] = 2.0625\n",
      "1 -> t[i] = 1.25000 | x[i] = 3.89282\n",
      "Euler: 1 -> t[i] = 1.3750 | x[i] = 8.6285\n",
      "1 -> t[i] = 1.50000 | x[i] = 55.07751\n",
      "Euler: 1 -> t[i] = 1.6250 | x[i] = 1192.6520\n",
      "1 -> t[i] = 1.75000 | x[i] = 1155770.38231\n",
      "Euler: 1 -> t[i] = 1.8750 | x[i] = 584415920543.8831\n",
      "1 -> t[i] = 2.00000 | x[i] = 320195595173582067466240.00000\n"
     ]
    },
    {
     "data": {
      "text/plain": [
       "(2.0, 3.201955951735821e+23)"
      ]
     },
     "execution_count": 278,
     "metadata": {},
     "output_type": "execute_result"
    }
   ],
   "source": [
    "#midpointMethod(2,1/3,1,2,ff)\n",
    "\n",
    "#midpointMethod(0,1/2,0,2,ff1)\n",
    "\n",
    "midpointMethod(1.5,1/4,1.0,4,ff2)\n"
   ]
  },
  {
   "cell_type": "code",
   "execution_count": 279,
   "id": "bc00dd37-faa1-4234-9405-4fbd658cd770",
   "metadata": {},
   "outputs": [],
   "source": [
    "# ---------------------------------\n",
    "# ---------------------------------\n",
    "# ---------------------------------\n",
    "# ---------------------------------\n",
    "# ---------------------------------\n",
    "# ---------------------------------\n",
    "# ---------------------------------"
   ]
  },
  {
   "cell_type": "code",
   "execution_count": 280,
   "id": "bc0dfdb7-b349-44d1-bcb6-a20a54e31878",
   "metadata": {},
   "outputs": [],
   "source": [
    "# implement abs and rel errors - useful for non linear solvers"
   ]
  },
  {
   "cell_type": "code",
   "execution_count": 281,
   "id": "7a57d11a-88c9-484d-9853-4648573fe3ba",
   "metadata": {},
   "outputs": [],
   "source": [
    "def relError(flx,x):\n",
    "    \n",
    "    if flx == None or x == None:\n",
    "        return \"\"\n",
    "    \n",
    "    return abs(flx - x) / abs(x)\n",
    "\n",
    "def absError(flx,x):\n",
    "    \n",
    "    if flx == None or x == None:\n",
    "        return \"\"\n",
    "    \n",
    "    return abs(flx - x)"
   ]
  },
  {
   "cell_type": "code",
   "execution_count": 282,
   "id": "7e3f67b4-75c7-46db-8598-ee86693183ab",
   "metadata": {},
   "outputs": [],
   "source": [
    "# ---------------------------------\n",
    "# ---------------------------------\n",
    "# ---------------------------------\n",
    "# ---------------------------------\n",
    "# ---------------------------------\n",
    "# ---------------------------------\n",
    "# ---------------------------------"
   ]
  },
  {
   "cell_type": "code",
   "execution_count": 283,
   "id": "04c4449e-298d-40e5-91e1-6ddcd1b48f5a",
   "metadata": {},
   "outputs": [],
   "source": [
    "# Non Linear Solvers\n",
    "\n",
    "# First setting up some template functions\n",
    "\n",
    "\n",
    "# f(x) maps to y = x^2 - 5\n",
    "def f(x):\n",
    "    return x**2 - 5\n",
    "\n",
    "# ff(x) maps to derative of f(x)\n",
    "def ff(x):\n",
    "    return 2*x\n",
    "\n",
    "def f1(x):\n",
    "    m = 100000000\n",
    "    return x**2 - (m + 1/m) * x + 1\n",
    "\n",
    "# ff1(x) maps to derative of f1(x)\n",
    "def ff1(x):\n",
    "    m = 100000000\n",
    "    return 2*x - (m + 1/m)\n",
    "\n",
    "def f2(x):\n",
    "    pass\n",
    "\n",
    "def ff2(x):\n",
    "    pass\n",
    "\n",
    "def f3(x):\n",
    "    pass"
   ]
  },
  {
   "cell_type": "code",
   "execution_count": 284,
   "id": "5d2da078-f763-4232-b38d-4f0dafe4b8a4",
   "metadata": {},
   "outputs": [],
   "source": [
    "# ---------------------------------\n",
    "# ---------------------------------\n",
    "# ---------------------------------\n",
    "# ---------------------------------\n",
    "# ---------------------------------\n",
    "# ---------------------------------\n",
    "# ---------------------------------"
   ]
  },
  {
   "cell_type": "code",
   "execution_count": 285,
   "id": "23edaed3-a502-4433-a505-e0bede9c15cd",
   "metadata": {},
   "outputs": [],
   "source": [
    "# Bisection Method"
   ]
  },
  {
   "cell_type": "code",
   "execution_count": 286,
   "id": "4f86a82c-5da9-4813-aadf-c4a5a9b39953",
   "metadata": {},
   "outputs": [],
   "source": [
    "# takes initial bracket of x1,x2 and tolerance to find a solution to\n",
    "def bisectionMethod(x1,x2,func,tol = 0.0000000001,exact = None):\n",
    "    \n",
    "    fx1 = func(x1)\n",
    "    fx2 = func(x2)\n",
    "    \n",
    "    count = 0\n",
    "    \n",
    "    \n",
    "    # first ensure bracket is not postive - i.e. no solution in the interval\n",
    "    if (fx1 * fx2) >= 0:\n",
    "        return (f\"With current bracket, no solution exist in its interval - current bracket = ({x1},{x2})\")\n",
    "        \n",
    "    \n",
    "    mid = (x1 + x2) /2\n",
    "    \n",
    "    while abs(x2-x1) > tol:\n",
    "        \n",
    "        mid = (x1+x2)/2\n",
    "        fMid = func(mid)\n",
    "        \n",
    "        \n",
    "        print(f\"{count} -> x1 = {x1:.5} | x2 = {x2:.5} | mid = {mid:.5} | Errors for mid ! abs = {absError(mid,exact):.5} ! rel err = {relError(mid,exact)}\\n\")\n",
    "            \n",
    "        if (fx1 * fMid) > 0:\n",
    "            #print(\"mid below solution\")\n",
    "            x1 = mid\n",
    "            fx1 = fMid\n",
    "        else:\n",
    "            #print(\"mid above solution\")\n",
    "            x2 = mid\n",
    "            fx2 = fMid\n",
    "            \n",
    "        count += 1\n",
    "            \n",
    "    return mid"
   ]
  },
  {
   "cell_type": "code",
   "execution_count": 287,
   "id": "4365a1ab-39d6-453d-ae31-85f4f702dfd2",
   "metadata": {},
   "outputs": [
    {
     "name": "stdout",
     "output_type": "stream",
     "text": [
      "0 -> x1 = 0.0 | x2 = 0.1 | mid = 0.05 | Errors for mid ! abs = 0.05 ! rel err = 4999999.0\n",
      "\n",
      "1 -> x1 = 0.0 | x2 = 0.05 | mid = 0.025 | Errors for mid ! abs = 0.025 ! rel err = 2499999.0\n",
      "\n",
      "2 -> x1 = 0.0 | x2 = 0.025 | mid = 0.0125 | Errors for mid ! abs = 0.0125 ! rel err = 1249999.0\n",
      "\n",
      "3 -> x1 = 0.0 | x2 = 0.0125 | mid = 0.00625 | Errors for mid ! abs = 0.00625 ! rel err = 624999.0\n",
      "\n",
      "4 -> x1 = 0.0 | x2 = 0.00625 | mid = 0.003125 | Errors for mid ! abs = 0.003125 ! rel err = 312499.0\n",
      "\n",
      "5 -> x1 = 0.0 | x2 = 0.003125 | mid = 0.0015625 | Errors for mid ! abs = 0.0015625 ! rel err = 156249.0\n",
      "\n",
      "6 -> x1 = 0.0 | x2 = 0.0015625 | mid = 0.00078125 | Errors for mid ! abs = 0.00078124 ! rel err = 78124.0\n",
      "\n",
      "7 -> x1 = 0.0 | x2 = 0.00078125 | mid = 0.00039063 | Errors for mid ! abs = 0.00039062 ! rel err = 39061.5\n",
      "\n",
      "8 -> x1 = 0.0 | x2 = 0.00039063 | mid = 0.00019531 | Errors for mid ! abs = 0.0001953 ! rel err = 19530.25\n",
      "\n",
      "9 -> x1 = 0.0 | x2 = 0.00019531 | mid = 9.7656e-05 | Errors for mid ! abs = 9.7646e-05 ! rel err = 9764.625\n",
      "\n",
      "10 -> x1 = 0.0 | x2 = 9.7656e-05 | mid = 4.8828e-05 | Errors for mid ! abs = 4.8818e-05 ! rel err = 4881.8125\n",
      "\n",
      "11 -> x1 = 0.0 | x2 = 4.8828e-05 | mid = 2.4414e-05 | Errors for mid ! abs = 2.4404e-05 ! rel err = 2440.40625\n",
      "\n",
      "12 -> x1 = 0.0 | x2 = 2.4414e-05 | mid = 1.2207e-05 | Errors for mid ! abs = 1.2197e-05 ! rel err = 1219.703125\n",
      "\n",
      "13 -> x1 = 0.0 | x2 = 1.2207e-05 | mid = 6.1035e-06 | Errors for mid ! abs = 6.0935e-06 ! rel err = 609.3515625\n",
      "\n",
      "14 -> x1 = 0.0 | x2 = 6.1035e-06 | mid = 3.0518e-06 | Errors for mid ! abs = 3.0418e-06 ! rel err = 304.17578125\n",
      "\n",
      "15 -> x1 = 0.0 | x2 = 3.0518e-06 | mid = 1.5259e-06 | Errors for mid ! abs = 1.5159e-06 ! rel err = 151.58789062500003\n",
      "\n",
      "16 -> x1 = 0.0 | x2 = 1.5259e-06 | mid = 7.6294e-07 | Errors for mid ! abs = 7.5294e-07 ! rel err = 75.2939453125\n",
      "\n",
      "17 -> x1 = 0.0 | x2 = 7.6294e-07 | mid = 3.8147e-07 | Errors for mid ! abs = 3.7147e-07 ! rel err = 37.14697265625\n",
      "\n",
      "18 -> x1 = 0.0 | x2 = 3.8147e-07 | mid = 1.9073e-07 | Errors for mid ! abs = 1.8073e-07 ! rel err = 18.073486328125\n",
      "\n",
      "19 -> x1 = 0.0 | x2 = 1.9073e-07 | mid = 9.5367e-08 | Errors for mid ! abs = 8.5367e-08 ! rel err = 8.5367431640625\n",
      "\n",
      "20 -> x1 = 0.0 | x2 = 9.5367e-08 | mid = 4.7684e-08 | Errors for mid ! abs = 3.7684e-08 ! rel err = 3.7683715820312504\n",
      "\n",
      "21 -> x1 = 0.0 | x2 = 4.7684e-08 | mid = 2.3842e-08 | Errors for mid ! abs = 1.3842e-08 ! rel err = 1.384185791015625\n",
      "\n",
      "22 -> x1 = 0.0 | x2 = 2.3842e-08 | mid = 1.1921e-08 | Errors for mid ! abs = 1.9209e-09 ! rel err = 0.19209289550781253\n",
      "\n",
      "23 -> x1 = 0.0 | x2 = 1.1921e-08 | mid = 5.9605e-09 | Errors for mid ! abs = 4.0395e-09 ! rel err = 0.40395355224609375\n",
      "\n",
      "24 -> x1 = 5.9605e-09 | x2 = 1.1921e-08 | mid = 8.9407e-09 | Errors for mid ! abs = 1.0593e-09 ! rel err = 0.10593032836914051\n",
      "\n"
     ]
    },
    {
     "data": {
      "text/plain": [
       "8.940696716308595e-09"
      ]
     },
     "execution_count": 287,
     "metadata": {},
     "output_type": "execute_result"
    }
   ],
   "source": [
    "#bisectionMethod(1.5,3.4,f)\n",
    "\n",
    "bisectionMethod(0.0,0.1,f1,0.000000005,0.00000001)"
   ]
  },
  {
   "cell_type": "code",
   "execution_count": 288,
   "id": "02353dae-1673-40ff-933e-a92d4bfbee78",
   "metadata": {},
   "outputs": [],
   "source": [
    "# ---------------------------------\n",
    "# ---------------------------------\n",
    "# ---------------------------------\n",
    "# ---------------------------------\n",
    "# ---------------------------------\n",
    "# ---------------------------------\n",
    "# ---------------------------------"
   ]
  },
  {
   "cell_type": "code",
   "execution_count": 289,
   "id": "7f8389d7-f320-428d-9ff0-ede8b1c4d122",
   "metadata": {},
   "outputs": [],
   "source": [
    "# Newtons method"
   ]
  },
  {
   "cell_type": "code",
   "execution_count": 290,
   "id": "f0b472c7-b827-4029-a90f-deec95565435",
   "metadata": {},
   "outputs": [],
   "source": [
    "# requires an initial iterate, x and a tolerance, tol\n",
    "def newtonsMethod(x,func,derative,tol = 0.00001,exact = None):\n",
    "    \n",
    "    fx = func(x)\n",
    "    \n",
    "    count = 0\n",
    "    \n",
    "    while abs(fx) > tol:\n",
    "        \n",
    "        x = x - fx/derative(x)\n",
    "        \n",
    "        fx = func(x)\n",
    "    \n",
    "        \n",
    "        count += 1\n",
    "        print(f\"{count} -> x = {x:.5} | fx = {fx:.5} | abs error = {absError(x,exact)} | rel error = {relError(x,exact)} \")\n",
    "        #input()\n",
    "        \n",
    "    return x"
   ]
  },
  {
   "cell_type": "code",
   "execution_count": 291,
   "id": "76e643b8-5f7b-475f-b2f1-2ae8d96ed195",
   "metadata": {},
   "outputs": [
    {
     "name": "stdout",
     "output_type": "stream",
     "text": [
      "1 -> x = -9.9e-07 | fx = 100.0 | abs error = 1.0000001973761618e-06 | rel error = 100.00001973761617 \n",
      "2 -> x = 1e-08 | fx = 1.0048e-12 | abs error = 1.004859008129418e-20 | rel error = 1.004859008129418e-12 \n"
     ]
    },
    {
     "data": {
      "text/plain": [
       "9.999999999989952e-09"
      ]
     },
     "execution_count": 291,
     "metadata": {},
     "output_type": "execute_result"
    }
   ],
   "source": [
    "#newtonsMethod(1.0,f,ff)\n",
    "newtonsMethod(10.0,f1,ff1,0.000000005,0.00000001)"
   ]
  },
  {
   "cell_type": "code",
   "execution_count": 292,
   "id": "2a01ad87-fc99-4858-8eb8-9ae2420ca12d",
   "metadata": {},
   "outputs": [],
   "source": [
    "# ---------------------------------\n",
    "# ---------------------------------\n",
    "# ---------------------------------\n",
    "# ---------------------------------\n",
    "# ---------------------------------\n",
    "# ---------------------------------\n",
    "# ---------------------------------"
   ]
  },
  {
   "cell_type": "code",
   "execution_count": 293,
   "id": "c4029fa9-a8be-4b5c-8f61-4f76ac57ca70",
   "metadata": {},
   "outputs": [],
   "source": [
    "# Quasi-Newton method"
   ]
  },
  {
   "cell_type": "code",
   "execution_count": 294,
   "id": "75eb3777-a139-498a-9394-1efb1db8671a",
   "metadata": {},
   "outputs": [],
   "source": [
    "# default dx to sqrt of machine epsilon\n",
    "def modifiedNewton(x,func,tol = 0.0000001,exact = None,dx = (np.finfo(float).eps)**0.5):\n",
    "    \n",
    "    fx = f(x)\n",
    "    \n",
    "    count = 0\n",
    "    \n",
    "    while abs(fx) > tol:\n",
    "        \n",
    "        # predict f'(x)\n",
    "        ffx = (f(x+dx) - fx)/dx\n",
    "        \n",
    "        # update x\n",
    "        x = x - fx/ffx\n",
    "        \n",
    "        # update fx\n",
    "        fx = f(x)\n",
    "        \n",
    "        count += 1\n",
    "        print(f\"{count} -> x = {x:.5} | abs error = {absError(x,exact)} | rel error = {relError(x,exact)} \")\n",
    "        \n",
    "    return x"
   ]
  },
  {
   "cell_type": "code",
   "execution_count": 295,
   "id": "fb6a61e4-c31e-46c2-b6ad-d81862d25f3a",
   "metadata": {},
   "outputs": [
    {
     "name": "stdout",
     "output_type": "stream",
     "text": [
      "1 -> x = 5.2736 | abs error = 3.0375638637959983 | rel error = 1.3584398573925816 \n",
      "2 -> x = 3.1312 | abs error = 0.8951173653876201 | rel error = 0.4003086554589213 \n",
      "3 -> x = 2.3761 | abs error = 0.14000234829508829 | rel error = 0.06261095357347819 \n",
      "4 -> x = 2.243 | abs error = 0.006924963024039776 | rel error = 0.0030969376133772953 \n",
      "5 -> x = 2.2362 | abs error = 0.0001614600807293698 | rel error = 7.220714324883416e-05 \n",
      "6 -> x = 2.2361 | abs error = 3.5373336322308546e-06 | rel error = 1.581943692506471e-06 \n",
      "7 -> x = 2.2361 | abs error = 7.785867639498179e-08 | rel error = 3.48194586192501e-08 \n",
      "8 -> x = 2.2361 | abs error = 2.19175477766953e-09 | rel error = 9.801825347948849e-10 \n",
      "2.2360679791917546\n"
     ]
    }
   ],
   "source": [
    "print(modifiedNewton(10,f,0.0000001,2.236067977,0.1))\n",
    "#print(modifiedNewton(10.0,f1,0.000000005,0.00000001))"
   ]
  },
  {
   "cell_type": "code",
   "execution_count": 296,
   "id": "c4dd5f65-4aa1-4726-90bb-e5d510bf9db5",
   "metadata": {},
   "outputs": [],
   "source": [
    "# ---------------------------------\n",
    "# ---------------------------------\n",
    "# ---------------------------------\n",
    "# ---------------------------------\n",
    "# ---------------------------------\n",
    "# ---------------------------------\n",
    "# ---------------------------------"
   ]
  },
  {
   "cell_type": "code",
   "execution_count": 297,
   "id": "59b391fd-e678-41b2-ad33-ac54491588a4",
   "metadata": {},
   "outputs": [],
   "source": [
    "# Secant Method - requires two inital values (x1 and x2)\n",
    "def secantMethod(x0,x1,func,tol = 0.000001,exact = None):\n",
    "    \n",
    "    fx0 = func(x0)\n",
    "    fx1 = func(x1)\n",
    "    \n",
    "    count = 0\n",
    "    \n",
    "    while abs(fx1) > tol:\n",
    "        \n",
    "        x2 = x1 - (fx1*(x1-x0))/(fx1 - fx0)\n",
    "        \n",
    "        # update values\n",
    "        x0 = x1\n",
    "        x1 = x2\n",
    "        \n",
    "        fx0 = fx1\n",
    "        fx1 = func(x1)\n",
    "        \n",
    "        count += 1\n",
    "        print(f\"{count} -> x0 = {x0:.5} | x1 = {x1:.5} | abs error = {absError(x1,exact)} | rel error = {relError(x1,exact)} \")\n",
    "        \n",
    "    return x1"
   ]
  },
  {
   "cell_type": "code",
   "execution_count": 298,
   "id": "088798fe-8799-445c-8b02-22dd56480964",
   "metadata": {},
   "outputs": [
    {
     "name": "stdout",
     "output_type": "stream",
     "text": [
      "1 -> x0 = 6.0 | x1 = 1.5714 | abs error =  | rel error =  \n",
      "2 -> x0 = 1.5714 | x1 = 1.9057 | abs error =  | rel error =  \n",
      "3 -> x0 = 1.9057 | x1 = 2.2992 | abs error =  | rel error =  \n",
      "4 -> x0 = 2.2992 | x1 = 2.2311 | abs error =  | rel error =  \n",
      "5 -> x0 = 2.2311 | x1 = 2.236 | abs error =  | rel error =  \n",
      "6 -> x0 = 2.236 | x1 = 2.2361 | abs error =  | rel error =  \n",
      "2.2360680543591553\n"
     ]
    }
   ],
   "source": [
    "print(secantMethod(1.0,6.0,f))\n",
    "#print(secantMethod(0.0,400000.0,f1,0.000000005,0.00000001))"
   ]
  },
  {
   "cell_type": "code",
   "execution_count": 299,
   "id": "6f8ff84d-8648-40a7-bfff-44dcb0b33913",
   "metadata": {},
   "outputs": [],
   "source": [
    "# ---------------------------------\n",
    "# ---------------------------------\n",
    "# ---------------------------------\n",
    "# ---------------------------------\n",
    "# ---------------------------------\n",
    "# ---------------------------------\n",
    "# ---------------------------------"
   ]
  },
  {
   "cell_type": "code",
   "execution_count": 300,
   "id": "c5dd9566-4136-4ac8-bc5f-efa8666f6039",
   "metadata": {},
   "outputs": [],
   "source": [
    "# approx a best fit line of any dimension"
   ]
  },
  {
   "cell_type": "code",
   "execution_count": 301,
   "id": "ff2adf58-346b-46c1-9cca-8c1ec9b43de9",
   "metadata": {},
   "outputs": [],
   "source": [
    "# plots graph of approxBestFit\n",
    "\n",
    "import matplotlib.pyplot as plt\n",
    "\n",
    "def plotGraph(mat,coordinates):\n",
    "    xs = [x[0] for x in coordinates]\n",
    "    ys = [x[1] for x in coordinates]\n",
    "    \n",
    "    # find x interval to plot the graph\n",
    "    xx = [x for x in np.arange(min(xs)-1,max(xs)+1,0.05)]\n",
    "    # calculate y coors for each x val\n",
    "    #yy = [quad[0] + x * quad[1] + x**2 * quad[2] for x in xx]\n",
    "    yy = []\n",
    "    \n",
    "    \n",
    "    for x in xx:\n",
    "        y = 0\n",
    "        \n",
    "        for i in range(len(mat)):\n",
    "            y +=  x**i * mat[i]\n",
    "            \n",
    "        yy.append(y)\n",
    "            \n",
    "    plt.figure(3)\n",
    "    plt.scatter(xs, ys)\n",
    "    plt.plot(xx,yy)\n",
    "    plt.xlabel(\"time\")\n",
    "    plt.ylabel(\"y\")\n",
    "    plt.grid()\n",
    "    plt.show()"
   ]
  },
  {
   "cell_type": "code",
   "execution_count": 302,
   "id": "a29c67c4-8fb6-4f63-af6d-b3c3f8a72546",
   "metadata": {},
   "outputs": [],
   "source": [
    "# takes a series of cooridnates in form [(x0,y0),(x1,y1),(x2,y2),(x3,y3),...] as coors\n",
    "# takes a dimension (1 = linear, 2 = quadratic, 3 = cubic)\n",
    "def approxBestFit(coors,dim):\n",
    "    \n",
    "    # get Number of coors\n",
    "    n = len(coors)\n",
    "    \n",
    "    # set up matrices\n",
    "    b = np.zeros(n)\n",
    "    A = np.zeros((n,dim+1))\n",
    "    \n",
    "    # set up b and A\n",
    "    for i in range(n):\n",
    "        b[i] = coors[i][1]\n",
    "        \n",
    "        A[i][0] = 1\n",
    "        \n",
    "        for j in range(1,dim+1):\n",
    "            A[i][j] = coors[i][0] ** j\n",
    "            \n",
    "    AtA = np.transpose(A) @ A\n",
    "    Atb = np.transpose(A) @ b\n",
    "    \n",
    "    # find x\n",
    "    x = np.linalg.solve(AtA, Atb)\n",
    "    \n",
    "    # plot graph\n",
    "    plotGraph(x,coors)\n",
    "    \n",
    "    #print(f\"{b = }\\n\\n{A = }\\n\\n{AtA = }\\n\\n{Atb = }\\n\\n{x = }\")\n",
    "    return x"
   ]
  },
  {
   "cell_type": "code",
   "execution_count": 303,
   "id": "9da6eefb-7d27-4733-bbaf-621558276d67",
   "metadata": {},
   "outputs": [
    {
     "data": {
      "image/png": "[encoded data removed]",
      "text/plain": [
       "<Figure size 640x480 with 1 Axes>"
      ]
     },
     "metadata": {},
     "output_type": "display_data"
    },
    {
     "data": {
      "text/plain": [
       "array([ 1.2,  0.5, -0.2])"
      ]
     },
     "execution_count": 303,
     "metadata": {},
     "output_type": "execute_result"
    }
   ],
   "source": [
    "# test approxBestFit\n",
    "\n",
    "coors = [(-1.0,1.0),(-0.5,0.5),(0.0,0.0),(0.5,0.5),(1.0,2.0)]\n",
    "\n",
    "coors2 = [(-1.0,0.5),(0.0,1.2),(1.0,1.5)]\n",
    "approxBestFit(coors2,2)"
   ]
  },
  {
   "cell_type": "code",
   "execution_count": 304,
   "id": "356920c2-4605-4ed0-9334-6204f31f6b67",
   "metadata": {},
   "outputs": [],
   "source": [
    "# ---------------------------------\n",
    "# ---------------------------------\n",
    "# ---------------------------------\n",
    "# ---------------------------------\n",
    "# ---------------------------------\n",
    "# ---------------------------------\n",
    "# ---------------------------------"
   ]
  },
  {
   "cell_type": "code",
   "execution_count": 305,
   "id": "7b50aa33-4d1a-44e8-b17b-ac04f851c2be",
   "metadata": {},
   "outputs": [
    {
     "data": {
      "text/plain": [
       "'\\nTo ADD:\\n\\n--> Robust Linear Solvers\\n--> Descriptions of each algorithm, including advantages and disadvatages, along with uses\\n\\n'"
      ]
     },
     "execution_count": 305,
     "metadata": {},
     "output_type": "execute_result"
    }
   ],
   "source": [
    "'''\n",
    "To ADD:\n",
    "\n",
    "--> Robust Linear Solvers\n",
    "--> Descriptions of each algorithm, including advantages and disadvatages, along with uses\n",
    "\n",
    "'''"
   ]
  }
 ],
 "metadata": {
  "kernelspec": {
   "display_name": "Python 3 (ipykernel)",
   "language": "python",
   "name": "python3"
  },
  "language_info": {
   "codemirror_mode": {
    "name": "ipython",
    "version": 3
   },
   "file_extension": ".py",
   "mimetype": "text/x-python",
   "name": "python",
   "nbconvert_exporter": "python",
   "pygments_lexer": "ipython3",
   "version": "3.9.7"
  }
 },
 "nbformat": 4,
 "nbformat_minor": 5
}
