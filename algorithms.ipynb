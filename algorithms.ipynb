{
 "cells": [
  {
   "cell_type": "code",
   "execution_count": 1,
   "id": "7140241a-caa1-4bba-a9e3-5806f932c3b1",
   "metadata": {},
   "outputs": [],
   "source": [
    "import numpy as np"
   ]
  },
  {
   "cell_type": "code",
   "execution_count": 2,
   "id": "f4fd2590-8cde-4bff-9ca4-8ec28c8c0ff9",
   "metadata": {},
   "outputs": [],
   "source": [
    "# Floating Point Calculations"
   ]
  },
  {
   "cell_type": "code",
   "execution_count": 3,
   "id": "af20977f-0d24-4bee-95af-f51877d19f85",
   "metadata": {},
   "outputs": [],
   "source": [
    "# functions to calculate max number, min number, eps and how many numbers can be represented by a system\n",
    "# takes parameters b,t,L,U where b stands for beta\n",
    "\n",
    "\n",
    "# GUIDE - NOT FULLY ACCURATE\n",
    "def numberSystemInfo(b,t,L,U):\n",
    "    \n",
    "    print(f\"---------\\nFor Number System ({b},{t},{L},{U}):\\n\")\n",
    "    \n",
    "    # calculate number of numbers representable\n",
    "    total = 2 * (U-L+1) * (b-1)\n",
    "    \n",
    "    for i in range(t-1):\n",
    "        total *= b\n",
    "        \n",
    "    total += 2\n",
    "    \n",
    "    print(f\"Number of numbers representable = {total}\")\n",
    "    \n",
    "    # calculate largest number\n",
    "    largestVal = 0\n",
    "    mult = b**(U-1)\n",
    "    \n",
    "    for i in range(t):\n",
    "        largestVal += (b-1) * mult\n",
    "        mult /= b\n",
    "        \n",
    "    print(f\"The largest representable value is {largestVal:.6}\")\n",
    "        \n",
    "    # calculate closest postive number to zero\n",
    "    smallVal = b**(L-1)\n",
    "    print(f\"The smallest value representable is {smallVal}\")\n",
    "    \n",
    "    # calculate epilson of the number system\n",
    "    \n",
    "    eps = 0.5 * b ** (1 - t)\n",
    "    print(f\"The machine epilison, {eps = }\")\n"
   ]
  },
  {
   "cell_type": "code",
   "execution_count": 4,
   "id": "61f7d855-ca9e-46c2-a380-eeb1d495c4b4",
   "metadata": {},
   "outputs": [
    {
     "name": "stdout",
     "output_type": "stream",
     "text": [
      "---------\n",
      "For Number System (2,52,-1023,1024):\n",
      "\n",
      "Number of numbers representable = 9223372036854775810\n",
      "The largest representable value is 1.79769e+308\n",
      "The smallest value representable is 5.562684646268003e-309\n",
      "The machine epilison, eps = 2.220446049250313e-16\n"
     ]
    }
   ],
   "source": [
    "# test numberSystemInfo\n",
    "\n",
    "#numberSystemInfo(10,2,-1,2)\n",
    "#numberSystemInfo(2,23,-127,128)\n",
    "numberSystemInfo(2,52,-1023,1024)\n"
   ]
  },
  {
   "cell_type": "code",
   "execution_count": 5,
   "id": "277a4351-757f-4377-a765-2ca7df260c4e",
   "metadata": {},
   "outputs": [],
   "source": [
    "# ---------------------------------\n",
    "# ---------------------------------\n",
    "# ---------------------------------\n",
    "# ---------------------------------\n",
    "# ---------------------------------\n",
    "# ---------------------------------\n",
    "# ---------------------------------"
   ]
  },
  {
   "cell_type": "code",
   "execution_count": 6,
   "id": "8cd50402-e575-40fb-a8ad-06c067fe334e",
   "metadata": {},
   "outputs": [],
   "source": [
    "# Gaussian Elemination"
   ]
  },
  {
   "cell_type": "code",
   "execution_count": 7,
   "id": "297c6edb-f334-4b61-b47f-994eebd343c8",
   "metadata": {},
   "outputs": [],
   "source": [
    "# ALGORITHM TO SOLVE AN UPPER TRIANGULAR MATRIX\n",
    "\n",
    "# takes A in upper triangular form, along with b, to solve for x, returning x\n",
    "def solveUpperTri(A,b):\n",
    "    \n",
    "    # find the dimensions of the triangular system - A should be sqaure\n",
    "    dim = A.shape[0]\n",
    "    \n",
    "    x = np.zeros(dim)\n",
    "    \n",
    "    # start at bottom row of matrix and work up\n",
    "    for i in range(dim-1,-1,-1):\n",
    "        \n",
    "        # find rowSum as the total of values not along diag * corresponding x val\n",
    "        rowSum = 0\n",
    "        for j in range(i+1,dim):\n",
    "            rowSum += A[i][j] * x[j]\n",
    "        \n",
    "        x[i] = (b[i] - (rowSum))/A[i][i]\n",
    "        \n",
    "    return x "
   ]
  },
  {
   "cell_type": "code",
   "execution_count": 8,
   "id": "77cdfb91-7eb0-467e-8c56-542f006bdac1",
   "metadata": {},
   "outputs": [],
   "source": [
    "# Can preform GE with pivoting if necessary - to do this, uncomment pivoting line\n",
    "\n",
    "# take parameters A and b and return x (Ax = b)\n",
    "def gE(A,b):\n",
    "    \n",
    "    # get the size of A\n",
    "    numRows = A.shape[0]\n",
    "    numCols = A.shape[1]\n",
    "    \n",
    "    # loop through rows\n",
    "    for x in range(numRows):\n",
    "        \n",
    "        #print(f\"before pivot on row {x}\\n\\n{A = }\\n{b = }\\n\")\n",
    "        \n",
    "        #preform a pivot - UNCOMMENT TO USE PIVOTTING\n",
    "        #A,b = pivot(A,b,x)\n",
    "        \n",
    "        #print(f\"after pivot on row {x}\\n\\n{A = }\\n{b = }\\n--------------------------------\\n\")\n",
    "        \n",
    "        # get the index along the diagonal\n",
    "        diag = A[x][x]\n",
    "        # iterate through remaining rows\n",
    "        for i in range(x+1,numRows):\n",
    "            factor = A[i][x] / diag\n",
    "            # iterate through each column from x and do the subtraction\n",
    "            for j in range(x,numCols):\n",
    "                A[i][j] = A[i][j] - factor * A[x][j]\n",
    "                \n",
    "            # update b\n",
    "            b[i] = b[i] - factor * b[x]\n",
    "                \n",
    "    return A,b       \n",
    "\n",
    "\n",
    "#function to pivot at a specfic given column\n",
    "def pivot(A,b,i):\n",
    "    dim = A.shape[0]\n",
    "    \n",
    "    #find the row with the biggest val in the column denoted by i\n",
    "    maxValRow = i\n",
    "    for j in range(i+1,dim):\n",
    "        if A[j][i] > A[maxValRow][i]:\n",
    "            maxValRow = j\n",
    "        \n",
    "            \n",
    "    #pivot unless no need to (i.e. if maxValRow == i)\n",
    "    if (maxValRow != i):\n",
    "        temp1 = A[maxValRow].copy()\n",
    "        A[maxValRow] = A[i]\n",
    "        A[i] = temp1\n",
    "        \n",
    "        temp2 = b[maxValRow].copy()\n",
    "        b[maxValRow] = b[i]\n",
    "        b[i] = temp2\n",
    "        \n",
    "    return(A,b)"
   ]
  },
  {
   "cell_type": "code",
   "execution_count": 9,
   "id": "cc74be32-a3a6-414a-9d37-5771c4b2c5ec",
   "metadata": {},
   "outputs": [
    {
     "data": {
      "text/plain": [
       "array([1., 1., 1., 1.])"
      ]
     },
     "execution_count": 9,
     "metadata": {},
     "output_type": "execute_result"
    }
   ],
   "source": [
    "# example\n",
    "\n",
    "A = np.array([[4.0,3.0,2.0,1.0],[1.0,2.0,2.0,2.0],[1.0,1.0,3.0,0.0],[2.0,1.0,2.0,3.0]])\n",
    "b = np.array([10.0,7.0,5.0,8.0])\n",
    "\n",
    "A1 = np.array([[0.0,1.0,0.0],[1.0,1.001,1.0],[100.0,100.0,0.0]])\n",
    "b1 = np.array([0.0,1002.0,200.0])\n",
    "\n",
    "A,b = gE(A,b)\n",
    "\n",
    "solveUpperTri(A,b)"
   ]
  },
  {
   "cell_type": "markdown",
   "id": "1dd66b61-e785-4428-9ed7-4ef4a561cbfe",
   "metadata": {},
   "source": [
    "///////////////////////\n",
    "\n",
    "About GE:\n",
    "- Time complexity of O(n^3)\n",
    "- IF Aii is 0 and all rows below it in col i have 0 as well, then the algorithm, even with pivoting, breaks down\n",
    "- Subject to rounding errors, where big - small may not have desired effect\n"
   ]
  },
  {
   "cell_type": "code",
   "execution_count": 10,
   "id": "b7ec4efe-ecac-4f42-97ae-20dc343c7775",
   "metadata": {},
   "outputs": [],
   "source": [
    "# ---------------------------------\n",
    "# ---------------------------------\n",
    "# ---------------------------------\n",
    "# ---------------------------------\n",
    "# ---------------------------------\n",
    "# ---------------------------------\n",
    "# ---------------------------------"
   ]
  },
  {
   "cell_type": "code",
   "execution_count": 11,
   "id": "f5b04fb5-39cf-4625-8731-adc5afa4c540",
   "metadata": {},
   "outputs": [],
   "source": [
    "# LU Factorisation"
   ]
  },
  {
   "cell_type": "code",
   "execution_count": 12,
   "id": "83b60326-56b7-4d24-94fb-ce8f55896273",
   "metadata": {},
   "outputs": [],
   "source": [
    "# ---------------------------------\n",
    "# ---------------------------------\n",
    "# ---------------------------------\n",
    "# ---------------------------------\n",
    "# ---------------------------------\n",
    "# ---------------------------------\n",
    "# ---------------------------------"
   ]
  },
  {
   "cell_type": "code",
   "execution_count": 13,
   "id": "6f0e9134-fe09-4085-85a9-4a0f40e7be1e",
   "metadata": {},
   "outputs": [],
   "source": [
    "# Jacobi Iteration"
   ]
  },
  {
   "cell_type": "code",
   "execution_count": 14,
   "id": "da5174a0-6786-45e2-ac7a-1c22af3c7ee1",
   "metadata": {},
   "outputs": [],
   "source": [
    "# takes A and b as parameters along with an initial x guess - A should be square and its - number of iteration\n",
    "def jacobi(A,b,x,its):\n",
    "    # find dimension of A\n",
    "    dim = A.shape[0]\n",
    "    \n",
    "    \n",
    "    for i in range(its):\n",
    "    \n",
    "        # find D^-1\n",
    "        Dinverse = np.zeros((dim,dim))\n",
    "\n",
    "        for i in range(dim):\n",
    "            for j in range(dim):\n",
    "                if i == j:\n",
    "                    Dinverse[i][j] = 1/A[i][j]\n",
    "\n",
    "        # find the next x\n",
    "\n",
    "        x = x + Dinverse @ (b - A @ x)\n",
    "    \n",
    "    return x\n"
   ]
  },
  {
   "cell_type": "code",
   "execution_count": 15,
   "id": "6ec8598f-c9ca-4f9d-bd8d-e5def536276e",
   "metadata": {},
   "outputs": [
    {
     "data": {
      "text/plain": [
       "array([1.5625, 0.4375])"
      ]
     },
     "execution_count": 15,
     "metadata": {},
     "output_type": "execute_result"
    }
   ],
   "source": [
    "# example\n",
    "\n",
    "A = np.array([[2.0,1.0],[-1.0,4.0]])\n",
    "b = np.array([3.5,0.5])\n",
    "x = np.array([1,1])\n",
    "\n",
    "jacobi(A,b,x,2)"
   ]
  },
  {
   "cell_type": "code",
   "execution_count": 16,
   "id": "07f85a49-e97a-4089-a9a4-4d388f30e0c7",
   "metadata": {},
   "outputs": [],
   "source": [
    "# ---------------------------------\n",
    "# ---------------------------------\n",
    "# ---------------------------------\n",
    "# ---------------------------------\n",
    "# ---------------------------------\n",
    "# ---------------------------------\n",
    "# ---------------------------------"
   ]
  },
  {
   "cell_type": "code",
   "execution_count": 17,
   "id": "a9faa1d8-b192-4eca-80df-71bee7bae0e0",
   "metadata": {},
   "outputs": [],
   "source": [
    "# Gauss-Seidel Iteration"
   ]
  },
  {
   "cell_type": "code",
   "execution_count": 18,
   "id": "b1e3bf06-5c24-4cd5-884f-57e3ec236aa7",
   "metadata": {},
   "outputs": [],
   "source": [
    "# Gauss-Seidel Function, taking A,b and x0 and its (number of iterations) as parameters\n",
    "def GS(A,b,x,its):\n",
    "    \n",
    "    n = x.shape[0]\n",
    "    \n",
    "    for it in range(its):\n",
    "        for i in range(n):\n",
    "\n",
    "            sum1 = 0\n",
    "\n",
    "            for j in range(n):\n",
    "                sum1 += A[i][j] * x[j]\n",
    "                \n",
    "            x[i] += (1/A[i][i])*(b[i] - sum1)\n",
    "\n",
    "        #print(f\"{x = }\")\n",
    "    \n",
    "    return x\n",
    "        "
   ]
  },
  {
   "cell_type": "code",
   "execution_count": 19,
   "id": "ec7e25f2-c50d-4fb4-8f32-7f2754d82ff5",
   "metadata": {},
   "outputs": [
    {
     "name": "stdout",
     "output_type": "stream",
     "text": [
      "xFinal = array([-0.72727273,  3.09090909,  1.45454545]) | A @ xFinal = array([ 6., 10.,  6.])\n"
     ]
    }
   ],
   "source": [
    "# Example\n",
    "\n",
    "A = np.array([[2.0,1.0,3.0],[1.0,3.0,1.0],[0.0,1.0,2.0]])\n",
    "b = np.array([6.0,10.0,6.0])\n",
    "x = np.array([1.0,2.0,3.0])\n",
    "\n",
    "xFinal = GS(A,b,x,20)\n",
    "\n",
    "print(f\"{xFinal = } | {A @ xFinal = }\")"
   ]
  },
  {
   "cell_type": "code",
   "execution_count": 20,
   "id": "eefcf8bb-ac5a-4339-a2af-b4570ed4ca8c",
   "metadata": {},
   "outputs": [],
   "source": [
    "# ---------------------------------\n",
    "# ---------------------------------\n",
    "# ---------------------------------\n",
    "# ---------------------------------\n",
    "# ---------------------------------\n",
    "# ---------------------------------\n",
    "# ---------------------------------"
   ]
  },
  {
   "cell_type": "code",
   "execution_count": 21,
   "id": "b9226a60-88a7-4e5c-98b0-2829c6a57511",
   "metadata": {},
   "outputs": [],
   "source": [
    "# Euler's Method [  x(t1) = x(t0) + dt * x'(t0)      ])"
   ]
  },
  {
   "cell_type": "code",
   "execution_count": 22,
   "id": "87ffa502-0bef-4fc9-951d-4f4496e71f6d",
   "metadata": {},
   "outputs": [],
   "source": [
    "# implement f'(x) as ff(x)\n",
    "def ff(x,t):\n",
    "    return -(x**2) + 1/t"
   ]
  },
  {
   "cell_type": "code",
   "execution_count": 23,
   "id": "0e95fe4e-21fa-42d5-85be-54b691b01632",
   "metadata": {},
   "outputs": [],
   "source": [
    "# takes inital x0, dt, t0 and number of iterations to perfrom\n",
    "def eulerMethod(x0,dt,t0,its):\n",
    "    \n",
    "    t = [0.0 for i in range(its+1)]\n",
    "    x = [0.0 for i in range(its+1)]\n",
    "    \n",
    "    t[0] = t0\n",
    "    x[0] = x0\n",
    "\n",
    "    for i in range(1,its+1):\n",
    "        x[i] = x[i-1] + ff(x[i-1],t[i-1])*dt\n",
    "        t[i] = t[i-1] + dt\n",
    "        \n",
    "        print(f\"t[i] = {t[i]:.4f} | x[i] = {x[i]:.4f}\")\n",
    "        \n",
    "    return(t[-1],x[-1])\n",
    "        "
   ]
  },
  {
   "cell_type": "code",
   "execution_count": 24,
   "id": "0f3a13b9-2914-41e1-a7bf-dbb3b91d0b3c",
   "metadata": {},
   "outputs": [
    {
     "name": "stdout",
     "output_type": "stream",
     "text": [
      "t[i] = 1.3333 | x[i] = 1.0000\n",
      "t[i] = 1.6667 | x[i] = 0.9167\n",
      "t[i] = 2.0000 | x[i] = 0.8366\n"
     ]
    },
    {
     "data": {
      "text/plain": [
       "(1.9999999999999998, 0.8365740740740741)"
      ]
     },
     "execution_count": 24,
     "metadata": {},
     "output_type": "execute_result"
    }
   ],
   "source": [
    "# example - using f'(x) = -y^2 + 1/t\n",
    "# dt = 1/3\n",
    "# t0 = 1\n",
    "# tEnd = 2\n",
    "# tSteps = 3\n",
    "# y(1) = 2\n",
    "\n",
    "eulerMethod(2,1/3,1,3)"
   ]
  },
  {
   "cell_type": "code",
   "execution_count": 25,
   "id": "8ce300c9-f17c-405b-b1fd-548f1b9bf322",
   "metadata": {},
   "outputs": [],
   "source": [
    "# ---------------------------------\n",
    "# ---------------------------------\n",
    "# ---------------------------------\n",
    "# ---------------------------------\n",
    "# ---------------------------------\n",
    "# ---------------------------------\n",
    "# ---------------------------------"
   ]
  },
  {
   "cell_type": "code",
   "execution_count": 26,
   "id": "5bb81aa9-5963-4bdc-948d-0fe651eb29ac",
   "metadata": {},
   "outputs": [],
   "source": [
    "# Midpoint method"
   ]
  },
  {
   "cell_type": "code",
   "execution_count": 27,
   "id": "db192d3a-aca7-4559-a4f6-2592cc4a46e8",
   "metadata": {},
   "outputs": [],
   "source": [
    "# takes inital x0, dt, t0 and number of iterations to perfrom\n",
    "def midpointMethod(x0,dt,t0,its):\n",
    "    \n",
    "    t = [0.0 for i in range(its+1)]\n",
    "    x = [0.0 for i in range(its+1)]\n",
    "    \n",
    "    t[0] = t0\n",
    "    x[0] = x0\n",
    "\n",
    "    for i in range(1,its+1):\n",
    "        \n",
    "        tMid, xMid = eulerMethod(x[i-1],dt/2, t[i-1],1)\n",
    "        \n",
    "        #print(f\"{tMid = } | {xMid = }\")\n",
    "        \n",
    "        x[i] = x[i-1] + ff(xMid,tMid)*dt\n",
    "        t[i] = t[i-1] + dt\n",
    "        \n",
    "        #print(f\"t[i] = {t[i]:.4f} | x[i] = {x[i]:.4f}\")\n",
    "        \n",
    "    return(t[-1],x[-1])"
   ]
  },
  {
   "cell_type": "code",
   "execution_count": 28,
   "id": "ad393951-13d0-4ff3-a5ad-2a29addcd9c4",
   "metadata": {},
   "outputs": [
    {
     "name": "stdout",
     "output_type": "stream",
     "text": [
      "t[i] = 1.1667 | x[i] = 1.5000\n",
      "t[i] = 1.5000 | x[i] = 1.2676\n"
     ]
    },
    {
     "data": {
      "text/plain": [
       "(1.6666666666666665, 1.222295599610309)"
      ]
     },
     "execution_count": 28,
     "metadata": {},
     "output_type": "execute_result"
    }
   ],
   "source": [
    "# example - using f'(x) = -y^2 + 1/t\n",
    "# dt = 1/3\n",
    "# t0 = 1\n",
    "# tEnd = 2\n",
    "# tSteps = 3\n",
    "# y(1) = 2\n",
    "\n",
    "midpointMethod(2,1/3,1,2)"
   ]
  },
  {
   "cell_type": "code",
   "execution_count": 29,
   "id": "bc00dd37-faa1-4234-9405-4fbd658cd770",
   "metadata": {},
   "outputs": [],
   "source": [
    "# ---------------------------------\n",
    "# ---------------------------------\n",
    "# ---------------------------------\n",
    "# ---------------------------------\n",
    "# ---------------------------------\n",
    "# ---------------------------------\n",
    "# ---------------------------------"
   ]
  },
  {
   "cell_type": "code",
   "execution_count": 30,
   "id": "04c4449e-298d-40e5-91e1-6ddcd1b48f5a",
   "metadata": {},
   "outputs": [],
   "source": [
    "# Non Linear Solvers\n",
    "\n",
    "# First setting up some template functions\n",
    "\n",
    "\n",
    "# f(x) maps to y = x^2 - 5\n",
    "def f(x):\n",
    "    return x**2 - 5\n",
    "\n",
    "# ff(x) maps to derative of f(x) - 2x\n",
    "def ff(x):\n",
    "    return 2*x\n",
    "\n",
    "\n",
    "def f1(x):\n",
    "    pass\n",
    "\n",
    "def f2(x):\n",
    "    pass\n",
    "\n",
    "def f3(x):\n",
    "    pass"
   ]
  },
  {
   "cell_type": "code",
   "execution_count": 31,
   "id": "5d2da078-f763-4232-b38d-4f0dafe4b8a4",
   "metadata": {},
   "outputs": [],
   "source": [
    "# ---------------------------------\n",
    "# ---------------------------------\n",
    "# ---------------------------------\n",
    "# ---------------------------------\n",
    "# ---------------------------------\n",
    "# ---------------------------------\n",
    "# ---------------------------------"
   ]
  },
  {
   "cell_type": "code",
   "execution_count": 32,
   "id": "23edaed3-a502-4433-a505-e0bede9c15cd",
   "metadata": {},
   "outputs": [],
   "source": [
    "# Bisection Method"
   ]
  },
  {
   "cell_type": "code",
   "execution_count": 33,
   "id": "4f86a82c-5da9-4813-aadf-c4a5a9b39953",
   "metadata": {},
   "outputs": [],
   "source": [
    "# takes initial bracket of x1,x2 and tolerance to find a solution to\n",
    "def bisectionMethod(x1,x2,tol = 0.0000000001):\n",
    "    \n",
    "    fx1 = f(x1)\n",
    "    fx2 = f(x2)\n",
    "    \n",
    "    # first ensure bracket is not postive - i.e. no solution in the interval\n",
    "    if (fx1 * fx2) >= 0:\n",
    "        return (f\"With current bracket, no solution exist in its interval - current bracket = ({x1},{x2})\")\n",
    "        \n",
    "    \n",
    "    while abs(x2-x1) > tol:\n",
    "        \n",
    "        mid = (x1+x2)/2\n",
    "        fMid = f(mid)\n",
    "        \n",
    "        #print(f\"{x1 = } | {x2 = } | {mid = }\")\n",
    "        #input()\n",
    "        \n",
    "        if (fx1 * fMid) > 0:\n",
    "            #print(\"mid below solution\")\n",
    "            x1 = mid\n",
    "            fx1 = fMid\n",
    "        else:\n",
    "            #print(\"mid above solution\")\n",
    "            x2 = mid\n",
    "            fx2 = fMid\n",
    "        \n",
    "        #print(\"\")\n",
    "            \n",
    "    return x1"
   ]
  },
  {
   "cell_type": "code",
   "execution_count": 34,
   "id": "4365a1ab-39d6-453d-ae31-85f4f702dfd2",
   "metadata": {},
   "outputs": [
    {
     "name": "stdout",
     "output_type": "stream",
     "text": [
      "2.236067977474886\n"
     ]
    }
   ],
   "source": [
    "print(bisectionMethod(1.5,3.4))"
   ]
  },
  {
   "cell_type": "code",
   "execution_count": 35,
   "id": "02353dae-1673-40ff-933e-a92d4bfbee78",
   "metadata": {},
   "outputs": [],
   "source": [
    "# ---------------------------------\n",
    "# ---------------------------------\n",
    "# ---------------------------------\n",
    "# ---------------------------------\n",
    "# ---------------------------------\n",
    "# ---------------------------------\n",
    "# ---------------------------------"
   ]
  },
  {
   "cell_type": "code",
   "execution_count": 36,
   "id": "7f8389d7-f320-428d-9ff0-ede8b1c4d122",
   "metadata": {},
   "outputs": [],
   "source": [
    "# Newtons method"
   ]
  },
  {
   "cell_type": "code",
   "execution_count": 37,
   "id": "f0b472c7-b827-4029-a90f-deec95565435",
   "metadata": {},
   "outputs": [],
   "source": [
    "# requires an initial iterate, x and a tolerance, tol\n",
    "def newtonsMethod(x,tol = 0.00001):\n",
    "    \n",
    "    fx = f(x)\n",
    "    \n",
    "    while abs(fx) > tol:\n",
    "        \n",
    "        x = x - fx/ff(x)\n",
    "        \n",
    "        fx = f(x)\n",
    "        \n",
    "        #print(f\"{x = } | {fx = }\")\n",
    "        #input()\n",
    "        \n",
    "    return x"
   ]
  },
  {
   "cell_type": "code",
   "execution_count": 38,
   "id": "110492df-7cf0-488a-8037-240a58526206",
   "metadata": {},
   "outputs": [
    {
     "name": "stdout",
     "output_type": "stream",
     "text": [
      "2.2360688956433634\n"
     ]
    }
   ],
   "source": [
    "print(newtonsMethod(1))"
   ]
  },
  {
   "cell_type": "code",
   "execution_count": 39,
   "id": "2a01ad87-fc99-4858-8eb8-9ae2420ca12d",
   "metadata": {},
   "outputs": [],
   "source": [
    "# ---------------------------------\n",
    "# ---------------------------------\n",
    "# ---------------------------------\n",
    "# ---------------------------------\n",
    "# ---------------------------------\n",
    "# ---------------------------------\n",
    "# ---------------------------------"
   ]
  },
  {
   "cell_type": "code",
   "execution_count": 40,
   "id": "c4029fa9-a8be-4b5c-8f61-4f76ac57ca70",
   "metadata": {},
   "outputs": [],
   "source": [
    "# Quasi-Newton method"
   ]
  },
  {
   "cell_type": "code",
   "execution_count": 41,
   "id": "75eb3777-a139-498a-9394-1efb1db8671a",
   "metadata": {},
   "outputs": [],
   "source": [
    "# default dx to sqrt of machine epsilon\n",
    "def modifiedNewton(x,dx = (np.finfo(float).eps)**0.5 ,tol = 0.0000001):\n",
    "    \n",
    "    fx = f(x)\n",
    "    \n",
    "    while abs(fx) > tol:\n",
    "        \n",
    "        # predict f'(x)\n",
    "        ffx = (f(x+dx) - fx)/dx\n",
    "        \n",
    "        # update x\n",
    "        x = x - fx/ffx\n",
    "        \n",
    "        # update fx\n",
    "        fx = f(x)\n",
    "        \n",
    "    return x"
   ]
  },
  {
   "cell_type": "code",
   "execution_count": 42,
   "id": "fb6a61e4-c31e-46c2-b6ad-d81862d25f3a",
   "metadata": {},
   "outputs": [
    {
     "name": "stdout",
     "output_type": "stream",
     "text": [
      "2.2360679774999817\n"
     ]
    }
   ],
   "source": [
    "print(modifiedNewton(1))"
   ]
  },
  {
   "cell_type": "code",
   "execution_count": 43,
   "id": "c4dd5f65-4aa1-4726-90bb-e5d510bf9db5",
   "metadata": {},
   "outputs": [],
   "source": [
    "# ---------------------------------\n",
    "# ---------------------------------\n",
    "# ---------------------------------\n",
    "# ---------------------------------\n",
    "# ---------------------------------\n",
    "# ---------------------------------\n",
    "# ---------------------------------"
   ]
  },
  {
   "cell_type": "code",
   "execution_count": 44,
   "id": "59b391fd-e678-41b2-ad33-ac54491588a4",
   "metadata": {},
   "outputs": [],
   "source": [
    "# Secant Method - requires two inital values (x1 and x2)\n",
    "def secantMethod(x0,x1,tol = 0.000001):\n",
    "    \n",
    "    fx0 = f(x0)\n",
    "    fx1 = f(x1)\n",
    "    \n",
    "    while abs(fx1) > tol:\n",
    "        \n",
    "        x2 = x1 - (fx1*(x1-x0))/(fx1 - fx0)\n",
    "        \n",
    "        # update values\n",
    "        x0 = x1\n",
    "        x1 = x2\n",
    "        \n",
    "        fx0 = fx1\n",
    "        fx1 = f(x1)\n",
    "        \n",
    "    return x1"
   ]
  },
  {
   "cell_type": "code",
   "execution_count": 45,
   "id": "088798fe-8799-445c-8b02-22dd56480964",
   "metadata": {},
   "outputs": [
    {
     "name": "stdout",
     "output_type": "stream",
     "text": [
      "2.2360680543591553\n"
     ]
    }
   ],
   "source": [
    "print(secantMethod(1,6))"
   ]
  },
  {
   "cell_type": "code",
   "execution_count": 46,
   "id": "6f8ff84d-8648-40a7-bfff-44dcb0b33913",
   "metadata": {},
   "outputs": [],
   "source": [
    "# ---------------------------------\n",
    "# ---------------------------------\n",
    "# ---------------------------------\n",
    "# ---------------------------------\n",
    "# ---------------------------------\n",
    "# ---------------------------------\n",
    "# ---------------------------------"
   ]
  },
  {
   "cell_type": "code",
   "execution_count": 47,
   "id": "c5dd9566-4136-4ac8-bc5f-efa8666f6039",
   "metadata": {},
   "outputs": [],
   "source": [
    "# approx a best fit line of any dimension"
   ]
  },
  {
   "cell_type": "code",
   "execution_count": 48,
   "id": "ff2adf58-346b-46c1-9cca-8c1ec9b43de9",
   "metadata": {},
   "outputs": [],
   "source": [
    "# plots graph of approxBestFit\n",
    "\n",
    "import matplotlib.pyplot as plt\n",
    "\n",
    "def plotGraph(mat,coordinates):\n",
    "    xs = [x[0] for x in coordinates]\n",
    "    ys = [x[1] for x in coordinates]\n",
    "    \n",
    "    # find x interval to plot the graph\n",
    "    xx = [x for x in np.arange(min(xs)-1,max(xs)+1,0.05)]\n",
    "    # calculate y coors for each x val\n",
    "    #yy = [quad[0] + x * quad[1] + x**2 * quad[2] for x in xx]\n",
    "    yy = []\n",
    "    \n",
    "    \n",
    "    for x in xx:\n",
    "        y = 0\n",
    "        \n",
    "        for i in range(len(mat)):\n",
    "            y +=  x**i * mat[i]\n",
    "            \n",
    "        yy.append(y)\n",
    "            \n",
    "    plt.figure(3)\n",
    "    plt.scatter(xs, ys)\n",
    "    plt.plot(xx,yy)\n",
    "    plt.xlabel(\"time\")\n",
    "    plt.ylabel(\"y\")\n",
    "    plt.grid()\n",
    "    plt.show()"
   ]
  },
  {
   "cell_type": "code",
   "execution_count": 49,
   "id": "a29c67c4-8fb6-4f63-af6d-b3c3f8a72546",
   "metadata": {},
   "outputs": [],
   "source": [
    "# takes a series of cooridnates in form [(x0,y0),(x1,y1),(x2,y2),(x3,y3),...] as coors\n",
    "# takes a dimension (1 = linear, 2 = quadratic, 3 = cubic)\n",
    "def approxBestFit(coors,dim):\n",
    "    \n",
    "    # get Number of coors\n",
    "    n = len(coors)\n",
    "    \n",
    "    # set up matrices\n",
    "    b = np.zeros(n)\n",
    "    A = np.zeros((n,dim+1))\n",
    "    \n",
    "    # set up b and A\n",
    "    for i in range(n):\n",
    "        b[i] = coors[i][1]\n",
    "        \n",
    "        A[i][0] = 1\n",
    "        \n",
    "        for j in range(1,dim+1):\n",
    "            A[i][j] = coors[i][0] ** j\n",
    "            \n",
    "    AtA = np.transpose(A) @ A\n",
    "    Atb = np.transpose(A) @ b\n",
    "    \n",
    "    # find x\n",
    "    x = np.linalg.solve(AtA, Atb)\n",
    "    \n",
    "    # plot graph\n",
    "    plotGraph(x,coors)\n",
    "    \n",
    "    #print(f\"{b = }\\n\\n{A = }\\n\\n{AtA = }\\n\\n{Atb = }\\n\\n{x = }\")\n",
    "    return x"
   ]
  },
  {
   "cell_type": "code",
   "execution_count": 50,
   "id": "9da6eefb-7d27-4733-bbaf-621558276d67",
   "metadata": {},
   "outputs": [
    {
     "data": {
      "image/png": "[encoded data removed]",
      "text/plain": [
       "<Figure size 640x480 with 1 Axes>"
      ]
     },
     "metadata": {},
     "output_type": "display_data"
    },
    {
     "data": {
      "text/plain": [
       "array([0.08571429, 0.4       , 1.42857143])"
      ]
     },
     "execution_count": 50,
     "metadata": {},
     "output_type": "execute_result"
    }
   ],
   "source": [
    "# test approxBestFit\n",
    "\n",
    "coors = [(-1.0,1.0),(-0.5,0.5),(0.0,0.0),(0.5,0.5),(1.0,2.0)]\n",
    "approxBestFit(coors,2)"
   ]
  },
  {
   "cell_type": "code",
   "execution_count": 51,
   "id": "356920c2-4605-4ed0-9334-6204f31f6b67",
   "metadata": {},
   "outputs": [],
   "source": [
    "# ---------------------------------\n",
    "# ---------------------------------\n",
    "# ---------------------------------\n",
    "# ---------------------------------\n",
    "# ---------------------------------\n",
    "# ---------------------------------\n",
    "# ---------------------------------"
   ]
  },
  {
   "cell_type": "code",
   "execution_count": 52,
   "id": "7b50aa33-4d1a-44e8-b17b-ac04f851c2be",
   "metadata": {},
   "outputs": [
    {
     "data": {
      "text/plain": [
       "'\\nTo ADD:\\n\\n--> Robust Linear Solvers\\n--> Descriptions of each algorithm, including advantages and disadvatages, along with uses\\n--> Sparse Matrices\\n--> Final lecture\\n\\n'"
      ]
     },
     "execution_count": 52,
     "metadata": {},
     "output_type": "execute_result"
    }
   ],
   "source": [
    "'''\n",
    "To ADD:\n",
    "\n",
    "--> Robust Linear Solvers\n",
    "--> Descriptions of each algorithm, including advantages and disadvatages, along with uses\n",
    "--> Sparse Matrices\n",
    "--> Final lecture\n",
    "\n",
    "'''"
   ]
  }
 ],
 "metadata": {
  "kernelspec": {
   "display_name": "Python 3 (ipykernel)",
   "language": "python",
   "name": "python3"
  },
  "language_info": {
   "codemirror_mode": {
    "name": "ipython",
    "version": 3
   },
   "file_extension": ".py",
   "mimetype": "text/x-python",
   "name": "python",
   "nbconvert_exporter": "python",
   "pygments_lexer": "ipython3",
   "version": "3.9.7"
  }
 },
 "nbformat": 4,
 "nbformat_minor": 5
}
