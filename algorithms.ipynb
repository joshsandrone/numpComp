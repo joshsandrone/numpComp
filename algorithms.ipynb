{
 "cells": [
  {
   "cell_type": "code",
   "execution_count": 44,
   "id": "7140241a-caa1-4bba-a9e3-5806f932c3b1",
   "metadata": {},
   "outputs": [],
   "source": [
    "import numpy as np"
   ]
  },
  {
   "cell_type": "code",
   "execution_count": 45,
   "id": "8cd50402-e575-40fb-a8ad-06c067fe334e",
   "metadata": {},
   "outputs": [],
   "source": [
    "# Gaussian Elemination"
   ]
  },
  {
   "cell_type": "code",
   "execution_count": 46,
   "id": "297c6edb-f334-4b61-b47f-994eebd343c8",
   "metadata": {},
   "outputs": [],
   "source": [
    "# ALGORITHM TO SOLVE AN UPPER TRIANGULAR MATRIX\n",
    "\n",
    "\n",
    "# takes A in upper triangular form, along with b, to solve for x, returning x\n",
    "def solveUpperTri(A,b):\n",
    "    \n",
    "    # find the dimensions of the triangular system - A should be sqaure\n",
    "    dim = A.shape[0]\n",
    "    \n",
    "    x = np.zeros(dim)\n",
    "    \n",
    "    # start at bottom row of matrix and work up\n",
    "    for i in range(dim-1,-1,-1):\n",
    "        \n",
    "        # find rowSum as the total of values not along diag * corresponding x val\n",
    "        rowSum = 0\n",
    "        for j in range(i+1,dim):\n",
    "            rowSum += A[i][j] * x[j]\n",
    "        \n",
    "        x[i] = (b[i] - (rowSum))/A[i][i]\n",
    "        \n",
    "    return x "
   ]
  },
  {
   "cell_type": "code",
   "execution_count": 47,
   "id": "77cdfb91-7eb0-467e-8c56-542f006bdac1",
   "metadata": {},
   "outputs": [],
   "source": [
    "# PREFORMS GE WITHOUT PIVOTING\n",
    "\n",
    "# take parameters A and b and return x (Ax = b)\n",
    "def gE(A,b):\n",
    "    \n",
    "    # get the size of A\n",
    "    numRows = A.shape[0]\n",
    "    numCols = A.shape[1]\n",
    "    \n",
    "    # loop through rows\n",
    "    for x in range(numRows):\n",
    "        # get the index along the diagonal\n",
    "        diag = A[x][x]\n",
    "        # iterate through remaining rows\n",
    "        for i in range(x+1,numRows):\n",
    "            factor = A[i][x] / diag\n",
    "            # iterate through each column from x and do the subtraction\n",
    "            for j in range(x,numCols):\n",
    "                A[i][j] = A[i][j] - factor * A[x][j]\n",
    "                \n",
    "            # update b\n",
    "            b[i] = b[i] - factor * b[x]\n",
    "                \n",
    "    return A,b       "
   ]
  },
  {
   "cell_type": "code",
   "execution_count": 48,
   "id": "cc74be32-a3a6-414a-9d37-5771c4b2c5ec",
   "metadata": {},
   "outputs": [
    {
     "data": {
      "text/plain": [
       "array([1., 1., 1., 1.])"
      ]
     },
     "execution_count": 48,
     "metadata": {},
     "output_type": "execute_result"
    }
   ],
   "source": [
    "# example\n",
    "\n",
    "A = np.array([[4.0,3.0,2.0,1.0],[1.0,2.0,2.0,2.0],[1.0,1.0,3.0,0.0],[2.0,1.0,2.0,3.0]])\n",
    "b = np.array([10.0,7.0,5.0,8.0])\n",
    "\n",
    "A,b = gE(A,b)\n",
    "\n",
    "solveUpperTri(A,b)"
   ]
  },
  {
   "cell_type": "code",
   "execution_count": 49,
   "id": "b7ec4efe-ecac-4f42-97ae-20dc343c7775",
   "metadata": {},
   "outputs": [],
   "source": [
    "# ---------------------------------\n",
    "# ---------------------------------\n",
    "# ---------------------------------\n",
    "# ---------------------------------\n",
    "# ---------------------------------\n",
    "# ---------------------------------\n",
    "# ---------------------------------"
   ]
  },
  {
   "cell_type": "code",
   "execution_count": 50,
   "id": "f5b04fb5-39cf-4625-8731-adc5afa4c540",
   "metadata": {},
   "outputs": [],
   "source": [
    "# LU Factorisation"
   ]
  },
  {
   "cell_type": "code",
   "execution_count": 51,
   "id": "83b60326-56b7-4d24-94fb-ce8f55896273",
   "metadata": {},
   "outputs": [],
   "source": [
    "# ---------------------------------\n",
    "# ---------------------------------\n",
    "# ---------------------------------\n",
    "# ---------------------------------\n",
    "# ---------------------------------\n",
    "# ---------------------------------\n",
    "# ---------------------------------"
   ]
  },
  {
   "cell_type": "code",
   "execution_count": 52,
   "id": "6f0e9134-fe09-4085-85a9-4a0f40e7be1e",
   "metadata": {},
   "outputs": [],
   "source": [
    "# Jacobi Iteration"
   ]
  },
  {
   "cell_type": "code",
   "execution_count": 53,
   "id": "da5174a0-6786-45e2-ac7a-1c22af3c7ee1",
   "metadata": {},
   "outputs": [],
   "source": [
    "# takes A and b as parameters along with an initial x guess - A should be square and its - number of iteration\n",
    "def jacobi(A,b,x,its):\n",
    "    # find dimension of A\n",
    "    dim = A.shape[0]\n",
    "    \n",
    "    \n",
    "    for i in range(its):\n",
    "    \n",
    "        # find D^-1\n",
    "        Dinverse = np.zeros((dim,dim))\n",
    "\n",
    "        for i in range(dim):\n",
    "            for j in range(dim):\n",
    "                if i == j:\n",
    "                    Dinverse[i][j] = 1/A[i][j]\n",
    "\n",
    "        # find the next x\n",
    "\n",
    "        x = x + Dinverse @ (b - A @ x)\n",
    "    \n",
    "    return x\n"
   ]
  },
  {
   "cell_type": "code",
   "execution_count": 54,
   "id": "6ec8598f-c9ca-4f9d-bd8d-e5def536276e",
   "metadata": {},
   "outputs": [
    {
     "data": {
      "text/plain": [
       "array([1.5625, 0.4375])"
      ]
     },
     "execution_count": 54,
     "metadata": {},
     "output_type": "execute_result"
    }
   ],
   "source": [
    "# example\n",
    "\n",
    "A = np.array([[2.0,1.0],[-1.0,4.0]])\n",
    "b = np.array([3.5,0.5])\n",
    "x = np.array([1,1])\n",
    "\n",
    "jacobi(A,b,x,2)"
   ]
  },
  {
   "cell_type": "code",
   "execution_count": 55,
   "id": "07f85a49-e97a-4089-a9a4-4d388f30e0c7",
   "metadata": {},
   "outputs": [],
   "source": [
    "# ---------------------------------\n",
    "# ---------------------------------\n",
    "# ---------------------------------\n",
    "# ---------------------------------\n",
    "# ---------------------------------\n",
    "# ---------------------------------\n",
    "# ---------------------------------"
   ]
  },
  {
   "cell_type": "code",
   "execution_count": 56,
   "id": "a9faa1d8-b192-4eca-80df-71bee7bae0e0",
   "metadata": {},
   "outputs": [],
   "source": [
    "# Gauss-Seidel Iteration"
   ]
  },
  {
   "cell_type": "code",
   "execution_count": 57,
   "id": "b1e3bf06-5c24-4cd5-884f-57e3ec236aa7",
   "metadata": {},
   "outputs": [],
   "source": [
    "# Gauss-Seidel Function, taking A,b and x0 and its (number of iterations) as parameters\n",
    "def GS(A,b,x,its):\n",
    "    \n",
    "    n = x.shape[0]\n",
    "    \n",
    "    for it in range(its):\n",
    "        for i in range(n):\n",
    "\n",
    "            sum1 = 0\n",
    "\n",
    "            for j in range(n):\n",
    "                sum1 += A[i][j] * x[j]\n",
    "                \n",
    "            x[i] += (1/A[i][i])*(b[i] - sum1)\n",
    "\n",
    "        #print(f\"{x = }\")\n",
    "    \n",
    "    return x\n",
    "        "
   ]
  },
  {
   "cell_type": "code",
   "execution_count": 58,
   "id": "ec7e25f2-c50d-4fb4-8f32-7f2754d82ff5",
   "metadata": {},
   "outputs": [
    {
     "name": "stdout",
     "output_type": "stream",
     "text": [
      "xFinal = array([-0.72727273,  3.09090909,  1.45454545]) | A @ xFinal = array([ 6., 10.,  6.])\n"
     ]
    }
   ],
   "source": [
    "# Example\n",
    "\n",
    "A = np.array([[2.0,1.0,3.0],[1.0,3.0,1.0],[0.0,1.0,2.0]])\n",
    "b = np.array([6.0,10.0,6.0])\n",
    "x = np.array([1.0,2.0,3.0])\n",
    "\n",
    "xFinal = GS(A,b,x,20)\n",
    "\n",
    "print(f\"{xFinal = } | {A @ xFinal = }\")"
   ]
  },
  {
   "cell_type": "code",
   "execution_count": 59,
   "id": "eefcf8bb-ac5a-4339-a2af-b4570ed4ca8c",
   "metadata": {},
   "outputs": [],
   "source": [
    "# ---------------------------------\n",
    "# ---------------------------------\n",
    "# ---------------------------------\n",
    "# ---------------------------------\n",
    "# ---------------------------------\n",
    "# ---------------------------------\n",
    "# ---------------------------------"
   ]
  },
  {
   "cell_type": "code",
   "execution_count": 60,
   "id": "b9226a60-88a7-4e5c-98b0-2829c6a57511",
   "metadata": {},
   "outputs": [],
   "source": [
    "# Euler's Method [  x(t1) = x(t0) + dt * x'(t0)      ])"
   ]
  },
  {
   "cell_type": "code",
   "execution_count": 61,
   "id": "87ffa502-0bef-4fc9-951d-4f4496e71f6d",
   "metadata": {},
   "outputs": [],
   "source": [
    "# implement f'(x) as ff(x)\n",
    "def ff(x,t):\n",
    "    return -(x**2) + 1/t"
   ]
  },
  {
   "cell_type": "code",
   "execution_count": 62,
   "id": "0e95fe4e-21fa-42d5-85be-54b691b01632",
   "metadata": {},
   "outputs": [],
   "source": [
    "# takes inital x0, dt, t0 and number of iterations to perfrom\n",
    "def eulerMethod(x0,dt,t0,its):\n",
    "    \n",
    "    t = [0.0 for i in range(its+1)]\n",
    "    x = [0.0 for i in range(its+1)]\n",
    "    \n",
    "    t[0] = t0\n",
    "    x[0] = x0\n",
    "\n",
    "    for i in range(1,its+1):\n",
    "        x[i] = x[i-1] + ff(x[i-1],t[i-1])*dt\n",
    "        t[i] = t[i-1] + dt\n",
    "        \n",
    "        print(f\"t[i] = {t[i]:.4f} | x[i] = {x[i]:.4f}\")\n",
    "        \n",
    "    return(t[-1],x[-1])\n",
    "        "
   ]
  },
  {
   "cell_type": "code",
   "execution_count": 63,
   "id": "0f3a13b9-2914-41e1-a7bf-dbb3b91d0b3c",
   "metadata": {},
   "outputs": [
    {
     "name": "stdout",
     "output_type": "stream",
     "text": [
      "t[i] = 1.3333 | x[i] = 1.0000\n",
      "t[i] = 1.6667 | x[i] = 0.9167\n",
      "t[i] = 2.0000 | x[i] = 0.8366\n"
     ]
    },
    {
     "data": {
      "text/plain": [
       "(1.9999999999999998, 0.8365740740740741)"
      ]
     },
     "execution_count": 63,
     "metadata": {},
     "output_type": "execute_result"
    }
   ],
   "source": [
    "# example - using f'(x) = -y^2 + 1/t\n",
    "# dt = 1/3\n",
    "# t0 = 1\n",
    "# tEnd = 2\n",
    "# tSteps = 3\n",
    "# y(1) = 2\n",
    "\n",
    "eulerMethod(2,1/3,1,3)"
   ]
  },
  {
   "cell_type": "code",
   "execution_count": 64,
   "id": "8ce300c9-f17c-405b-b1fd-548f1b9bf322",
   "metadata": {},
   "outputs": [],
   "source": [
    "# ---------------------------------\n",
    "# ---------------------------------\n",
    "# ---------------------------------\n",
    "# ---------------------------------\n",
    "# ---------------------------------\n",
    "# ---------------------------------\n",
    "# ---------------------------------"
   ]
  },
  {
   "cell_type": "code",
   "execution_count": 65,
   "id": "5bb81aa9-5963-4bdc-948d-0fe651eb29ac",
   "metadata": {},
   "outputs": [],
   "source": [
    "# Midpoint method"
   ]
  },
  {
   "cell_type": "code",
   "execution_count": 66,
   "id": "db192d3a-aca7-4559-a4f6-2592cc4a46e8",
   "metadata": {},
   "outputs": [],
   "source": [
    "# takes inital x0, dt, t0 and number of iterations to perfrom\n",
    "def midpointMethod(x0,dt,t0,its):\n",
    "    \n",
    "    t = [0.0 for i in range(its+1)]\n",
    "    x = [0.0 for i in range(its+1)]\n",
    "    \n",
    "    t[0] = t0\n",
    "    x[0] = x0\n",
    "\n",
    "    for i in range(1,its+1):\n",
    "        \n",
    "        tMid, xMid = eulerMethod(x[i-1],dt/2, t[i-1],1)\n",
    "        \n",
    "        #print(f\"{tMid = } | {xMid = }\")\n",
    "        \n",
    "        x[i] = x[i-1] + ff(xMid,tMid)*dt\n",
    "        t[i] = t[i-1] + dt\n",
    "        \n",
    "        #print(f\"t[i] = {t[i]:.4f} | x[i] = {x[i]:.4f}\")\n",
    "        \n",
    "    return(t[-1],x[-1])"
   ]
  },
  {
   "cell_type": "code",
   "execution_count": 67,
   "id": "ad393951-13d0-4ff3-a5ad-2a29addcd9c4",
   "metadata": {},
   "outputs": [
    {
     "name": "stdout",
     "output_type": "stream",
     "text": [
      "t[i] = 1.1667 | x[i] = 1.5000\n",
      "t[i] = 1.5000 | x[i] = 1.2676\n"
     ]
    },
    {
     "data": {
      "text/plain": [
       "(1.6666666666666665, 1.222295599610309)"
      ]
     },
     "execution_count": 67,
     "metadata": {},
     "output_type": "execute_result"
    }
   ],
   "source": [
    "# example - using f'(x) = -y^2 + 1/t\n",
    "# dt = 1/3\n",
    "# t0 = 1\n",
    "# tEnd = 2\n",
    "# tSteps = 3\n",
    "# y(1) = 2\n",
    "\n",
    "midpointMethod(2,1/3,1,2)"
   ]
  },
  {
   "cell_type": "code",
   "execution_count": 68,
   "id": "bc00dd37-faa1-4234-9405-4fbd658cd770",
   "metadata": {},
   "outputs": [],
   "source": [
    "# ---------------------------------\n",
    "# ---------------------------------\n",
    "# ---------------------------------\n",
    "# ---------------------------------\n",
    "# ---------------------------------\n",
    "# ---------------------------------\n",
    "# ---------------------------------"
   ]
  },
  {
   "cell_type": "code",
   "execution_count": 69,
   "id": "04c4449e-298d-40e5-91e1-6ddcd1b48f5a",
   "metadata": {},
   "outputs": [],
   "source": [
    "# Non Linear Solvers\n",
    "\n",
    "# First setting up some template functions\n",
    "\n",
    "\n",
    "# f(x) maps to y = x^2 - 5\n",
    "def f(x):\n",
    "    return x**2 - 5\n",
    "\n",
    "# ff(x) maps to derative of f(x) - 2x\n",
    "def ff(x):\n",
    "    return 2*x\n",
    "\n",
    "\n",
    "def f1(x):\n",
    "    pass\n",
    "\n",
    "def f2(x):\n",
    "    pass\n",
    "\n",
    "def f3(x):\n",
    "    pass"
   ]
  },
  {
   "cell_type": "code",
   "execution_count": 70,
   "id": "5d2da078-f763-4232-b38d-4f0dafe4b8a4",
   "metadata": {},
   "outputs": [],
   "source": [
    "# ---------------------------------\n",
    "# ---------------------------------\n",
    "# ---------------------------------\n",
    "# ---------------------------------\n",
    "# ---------------------------------\n",
    "# ---------------------------------\n",
    "# ---------------------------------"
   ]
  },
  {
   "cell_type": "code",
   "execution_count": 71,
   "id": "23edaed3-a502-4433-a505-e0bede9c15cd",
   "metadata": {},
   "outputs": [],
   "source": [
    "# Bisection Method"
   ]
  },
  {
   "cell_type": "code",
   "execution_count": 72,
   "id": "4f86a82c-5da9-4813-aadf-c4a5a9b39953",
   "metadata": {},
   "outputs": [],
   "source": [
    "# takes initial bracket of x1,x2 and tolerance to find a solution to\n",
    "def bisectionMethod(x1,x2,tol = 0.0000000001):\n",
    "    \n",
    "    fx1 = f(x1)\n",
    "    fx2 = f(x2)\n",
    "    \n",
    "    # first ensure bracket is not postive - i.e. no solution in the interval\n",
    "    if (fx1 * fx2) >= 0:\n",
    "        return (f\"With current bracket, no solution exist in its interval - current bracket = ({x1},{x2})\")\n",
    "        \n",
    "    \n",
    "    while abs(x2-x1) > tol:\n",
    "        \n",
    "        mid = (x1+x2)/2\n",
    "        fMid = f(mid)\n",
    "        \n",
    "        #print(f\"{x1 = } | {x2 = } | {mid = }\")\n",
    "        #input()\n",
    "        \n",
    "        if (fx1 * fMid) > 0:\n",
    "            #print(\"mid below solution\")\n",
    "            x1 = mid\n",
    "            fx1 = fMid\n",
    "        else:\n",
    "            #print(\"mid above solution\")\n",
    "            x2 = mid\n",
    "            fx2 = fMid\n",
    "        \n",
    "        #print(\"\")\n",
    "            \n",
    "    return x1"
   ]
  },
  {
   "cell_type": "code",
   "execution_count": 73,
   "id": "4365a1ab-39d6-453d-ae31-85f4f702dfd2",
   "metadata": {},
   "outputs": [
    {
     "name": "stdout",
     "output_type": "stream",
     "text": [
      "2.236067977474886\n"
     ]
    }
   ],
   "source": [
    "print(bisectionMethod(1.5,3.4))"
   ]
  },
  {
   "cell_type": "code",
   "execution_count": 74,
   "id": "02353dae-1673-40ff-933e-a92d4bfbee78",
   "metadata": {},
   "outputs": [],
   "source": [
    "# ---------------------------------\n",
    "# ---------------------------------\n",
    "# ---------------------------------\n",
    "# ---------------------------------\n",
    "# ---------------------------------\n",
    "# ---------------------------------\n",
    "# ---------------------------------"
   ]
  },
  {
   "cell_type": "code",
   "execution_count": 75,
   "id": "7f8389d7-f320-428d-9ff0-ede8b1c4d122",
   "metadata": {},
   "outputs": [],
   "source": [
    "# Newtons method"
   ]
  },
  {
   "cell_type": "code",
   "execution_count": 76,
   "id": "f0b472c7-b827-4029-a90f-deec95565435",
   "metadata": {},
   "outputs": [],
   "source": [
    "# requires an initial iterate, x and a tolerance, tol\n",
    "def newtonsMethod(x,tol = 0.00001):\n",
    "    \n",
    "    fx = f(x)\n",
    "    \n",
    "    while abs(fx) > tol:\n",
    "        \n",
    "        x = x - fx/ff(x)\n",
    "        \n",
    "        fx = f(x)\n",
    "        \n",
    "        #print(f\"{x = } | {fx = }\")\n",
    "        #input()\n",
    "        \n",
    "    return x"
   ]
  },
  {
   "cell_type": "code",
   "execution_count": 77,
   "id": "110492df-7cf0-488a-8037-240a58526206",
   "metadata": {},
   "outputs": [
    {
     "name": "stdout",
     "output_type": "stream",
     "text": [
      "2.2360688956433634\n"
     ]
    }
   ],
   "source": [
    "print(newtonsMethod(1))"
   ]
  },
  {
   "cell_type": "code",
   "execution_count": 78,
   "id": "2a01ad87-fc99-4858-8eb8-9ae2420ca12d",
   "metadata": {},
   "outputs": [],
   "source": [
    "# ---------------------------------\n",
    "# ---------------------------------\n",
    "# ---------------------------------\n",
    "# ---------------------------------\n",
    "# ---------------------------------\n",
    "# ---------------------------------\n",
    "# ---------------------------------"
   ]
  },
  {
   "cell_type": "code",
   "execution_count": 79,
   "id": "c4029fa9-a8be-4b5c-8f61-4f76ac57ca70",
   "metadata": {},
   "outputs": [],
   "source": [
    "# Quasi-Newton method"
   ]
  },
  {
   "cell_type": "code",
   "execution_count": 80,
   "id": "75eb3777-a139-498a-9394-1efb1db8671a",
   "metadata": {},
   "outputs": [],
   "source": [
    "# default dx to sqrt of machine epsilon\n",
    "def modifiedNewton(x,dx = (np.finfo(float).eps)**0.5 ,tol = 0.0000001):\n",
    "    \n",
    "    fx = f(x)\n",
    "    \n",
    "    while abs(fx) > tol:\n",
    "        \n",
    "        # predict f'(x)\n",
    "        ffx = (f(x+dx) - fx)/dx\n",
    "        \n",
    "        # update x\n",
    "        x = x - fx/ffx\n",
    "        \n",
    "        # update fx\n",
    "        fx = f(x)\n",
    "        \n",
    "    return x"
   ]
  },
  {
   "cell_type": "code",
   "execution_count": 81,
   "id": "fb6a61e4-c31e-46c2-b6ad-d81862d25f3a",
   "metadata": {},
   "outputs": [
    {
     "name": "stdout",
     "output_type": "stream",
     "text": [
      "2.2360679774999817\n"
     ]
    }
   ],
   "source": [
    "print(modifiedNewton(1))"
   ]
  },
  {
   "cell_type": "code",
   "execution_count": 82,
   "id": "c4dd5f65-4aa1-4726-90bb-e5d510bf9db5",
   "metadata": {},
   "outputs": [],
   "source": [
    "# ---------------------------------\n",
    "# ---------------------------------\n",
    "# ---------------------------------\n",
    "# ---------------------------------\n",
    "# ---------------------------------\n",
    "# ---------------------------------\n",
    "# ---------------------------------"
   ]
  },
  {
   "cell_type": "code",
   "execution_count": 83,
   "id": "59b391fd-e678-41b2-ad33-ac54491588a4",
   "metadata": {},
   "outputs": [],
   "source": [
    "# Secant Method - requires two inital values (x1 and x2)\n",
    "def secantMethod(x0,x1,tol = 0.000001):\n",
    "    \n",
    "    fx0 = f(x0)\n",
    "    fx1 = f(x1)\n",
    "    \n",
    "    while abs(fx1) > tol:\n",
    "        \n",
    "        x2 = x1 - (fx1*(x1-x0))/(fx1 - fx0)\n",
    "        \n",
    "        # update values\n",
    "        x0 = x1\n",
    "        x1 = x2\n",
    "        \n",
    "        fx0 = fx1\n",
    "        fx1 = f(x1)\n",
    "        \n",
    "    return x1"
   ]
  },
  {
   "cell_type": "code",
   "execution_count": 84,
   "id": "088798fe-8799-445c-8b02-22dd56480964",
   "metadata": {},
   "outputs": [
    {
     "name": "stdout",
     "output_type": "stream",
     "text": [
      "2.2360680543591553\n"
     ]
    }
   ],
   "source": [
    "print(secantMethod(1,6))"
   ]
  },
  {
   "cell_type": "code",
   "execution_count": 85,
   "id": "6f8ff84d-8648-40a7-bfff-44dcb0b33913",
   "metadata": {},
   "outputs": [],
   "source": [
    "# ---------------------------------\n",
    "# ---------------------------------\n",
    "# ---------------------------------\n",
    "# ---------------------------------\n",
    "# ---------------------------------\n",
    "# ---------------------------------\n",
    "# ---------------------------------"
   ]
  },
  {
   "cell_type": "code",
   "execution_count": 86,
   "id": "7b50aa33-4d1a-44e8-b17b-ac04f851c2be",
   "metadata": {},
   "outputs": [
    {
     "data": {
      "text/plain": [
       "'\\nTo ADD:\\n\\n--> Pivoting Function to GE\\n--> Robust Linear Solvers\\n--> Descriptions of each algorithm, including advantages and disadvatages, along with uses\\n\\n'"
      ]
     },
     "execution_count": 86,
     "metadata": {},
     "output_type": "execute_result"
    }
   ],
   "source": [
    "'''\n",
    "To ADD:\n",
    "\n",
    "--> Pivoting Function to GE\n",
    "--> Robust Linear Solvers\n",
    "--> Descriptions of each algorithm, including advantages and disadvatages, along with uses\n",
    "\n",
    "'''"
   ]
  }
 ],
 "metadata": {
  "kernelspec": {
   "display_name": "Python 3 (ipykernel)",
   "language": "python",
   "name": "python3"
  },
  "language_info": {
   "codemirror_mode": {
    "name": "ipython",
    "version": 3
   },
   "file_extension": ".py",
   "mimetype": "text/x-python",
   "name": "python",
   "nbconvert_exporter": "python",
   "pygments_lexer": "ipython3",
   "version": "3.9.7"
  }
 },
 "nbformat": 4,
 "nbformat_minor": 5
}
